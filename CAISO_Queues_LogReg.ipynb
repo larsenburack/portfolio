{
 "cells": [
  {
   "cell_type": "markdown",
   "id": "6c014107",
   "metadata": {},
   "source": [
    "# Interconnection Queues Analysis"
   ]
  },
  {
   "cell_type": "markdown",
   "id": "d187edc3",
   "metadata": {},
   "source": [
    "How likely is each project in the queue to be completed?"
   ]
  },
  {
   "cell_type": "code",
   "execution_count": 2,
   "id": "9e8387e5",
   "metadata": {},
   "outputs": [],
   "source": [
    "import pandas as pd\n",
    "import numpy as np\n",
    "import matplotlib.pyplot as plt\n",
    "import matplotlib.colors as mcolors\n",
    "import datetime"
   ]
  },
  {
   "cell_type": "code",
   "execution_count": 3,
   "id": "ab345c9a",
   "metadata": {},
   "outputs": [],
   "source": [
    "from sklearn.model_selection import train_test_split\n",
    "from sklearn.linear_model import LogisticRegression\n",
    "from sklearn.preprocessing import StandardScaler\n",
    "import statsmodels.api as sm"
   ]
  },
  {
   "cell_type": "code",
   "execution_count": 113,
   "id": "c827da4d",
   "metadata": {},
   "outputs": [],
   "source": [
    "model_df = pd.read_parquet('CAISO_qs.parquet')"
   ]
  },
  {
   "cell_type": "markdown",
   "id": "8db90556",
   "metadata": {},
   "source": [
    "## LogReg Attempt 1"
   ]
  },
  {
   "cell_type": "code",
   "execution_count": 114,
   "id": "15068ac4",
   "metadata": {},
   "outputs": [],
   "source": [
    "#Split the active projects from the completed/withdraawn projects to first analyze the completed/withdrawn projects\n",
    "\n",
    "active = model_df[model_df[\"Status\"] == \"ACTIVE\"]\n",
    "inactive = model_df[model_df[\"Status\"] != \"ACTIVE\"]\n",
    "\n",
    "#Create X and y for model\n",
    "X = inactive.drop(columns=\"Status\").astype('float64')\n",
    "y = pd.get_dummies(inactive[\"Status\"]).drop(columns='WITHDRAWN').rename(columns={'COMPLETED':'Status'}).astype('float64')"
   ]
  },
  {
   "cell_type": "code",
   "execution_count": 115,
   "id": "414ea2aa",
   "metadata": {},
   "outputs": [],
   "source": [
    "#Split data for models\n",
    "\n",
    "X_train, X_test, y_train, y_test = train_test_split(X, y, test_size = 0.4, random_state = 42)"
   ]
  },
  {
   "cell_type": "code",
   "execution_count": 116,
   "id": "2e6a1008",
   "metadata": {},
   "outputs": [],
   "source": [
    "#Normalize data because we incorporate categorical and numerical variables, all measured differently\n",
    "scaler = StandardScaler()\n",
    "X_train = scaler.fit_transform(X_train)\n",
    "X_test = scaler.transform(X_test)\n",
    "\n",
    "#Create and fit logistic regression model\n",
    "model = LogisticRegression(penalty='l2')\n",
    "model.fit(X_train, y_train.values.ravel())\n",
    "\n",
    "#Make predictions on test set\n",
    "predictions = model.predict(X_test)\n",
    "\n",
    "#Evaluate model performance\n",
    "accuracy = model.score(X_test, y_test)"
   ]
  },
  {
   "cell_type": "code",
   "execution_count": 117,
   "id": "94028c43",
   "metadata": {},
   "outputs": [
    {
     "data": {
      "text/plain": [
       "0.8969359331476323"
      ]
     },
     "execution_count": 117,
     "metadata": {},
     "output_type": "execute_result"
    }
   ],
   "source": [
    "accuracy"
   ]
  },
  {
   "cell_type": "code",
   "execution_count": 118,
   "id": "75544b18",
   "metadata": {},
   "outputs": [],
   "source": [
    "#To get p values:\n",
    "\n",
    "# add a column of ones for the intercept in X_test\n",
    "X_test = sm.add_constant(X_test) #but now we're saying this doesn't work\n",
    "\n",
    "# predict the probabilities of y_test using X_test and logreg\n",
    "y_pred = model.predict_proba(X_test)[:,1]"
   ]
  },
  {
   "cell_type": "code",
   "execution_count": 120,
   "id": "a049b005",
   "metadata": {},
   "outputs": [
    {
     "data": {
      "text/plain": [
       "array([-2.80243112])"
      ]
     },
     "execution_count": 120,
     "metadata": {},
     "output_type": "execute_result"
    }
   ],
   "source": [
    "# get the coefficients and intercept\n",
    "\n",
    "coef = model.coef_\n",
    "intercept = model.intercept_\n",
    "intercept"
   ]
  },
  {
   "cell_type": "code",
   "execution_count": 121,
   "id": "6bddf1f9",
   "metadata": {},
   "outputs": [
    {
     "data": {
      "text/html": [
       "<div>\n",
       "<style scoped>\n",
       "    .dataframe tbody tr th:only-of-type {\n",
       "        vertical-align: middle;\n",
       "    }\n",
       "\n",
       "    .dataframe tbody tr th {\n",
       "        vertical-align: top;\n",
       "    }\n",
       "\n",
       "    .dataframe thead th {\n",
       "        text-align: right;\n",
       "    }\n",
       "</style>\n",
       "<table border=\"1\" class=\"dataframe\">\n",
       "  <thead>\n",
       "    <tr style=\"text-align: right;\">\n",
       "      <th></th>\n",
       "      <th>feature</th>\n",
       "      <th>coefficient</th>\n",
       "    </tr>\n",
       "  </thead>\n",
       "  <tbody>\n",
       "    <tr>\n",
       "      <th>0</th>\n",
       "      <td>Capacity (MW)</td>\n",
       "      <td>-1.118709</td>\n",
       "    </tr>\n",
       "    <tr>\n",
       "      <th>1</th>\n",
       "      <td>Project Length</td>\n",
       "      <td>0.778763</td>\n",
       "    </tr>\n",
       "    <tr>\n",
       "      <th>2</th>\n",
       "      <td>cogeneration</td>\n",
       "      <td>0.181677</td>\n",
       "    </tr>\n",
       "    <tr>\n",
       "      <th>3</th>\n",
       "      <td>combustion</td>\n",
       "      <td>-0.007533</td>\n",
       "    </tr>\n",
       "    <tr>\n",
       "      <th>4</th>\n",
       "      <td>thermal</td>\n",
       "      <td>0.072119</td>\n",
       "    </tr>\n",
       "    <tr>\n",
       "      <th>5</th>\n",
       "      <td>reciprocating</td>\n",
       "      <td>-0.057147</td>\n",
       "    </tr>\n",
       "    <tr>\n",
       "      <th>6</th>\n",
       "      <td>storage</td>\n",
       "      <td>-0.982870</td>\n",
       "    </tr>\n",
       "    <tr>\n",
       "      <th>7</th>\n",
       "      <td>photovoltaic</td>\n",
       "      <td>-0.122386</td>\n",
       "    </tr>\n",
       "    <tr>\n",
       "      <th>8</th>\n",
       "      <td>hydro</td>\n",
       "      <td>-0.303968</td>\n",
       "    </tr>\n",
       "    <tr>\n",
       "      <th>9</th>\n",
       "      <td>wind</td>\n",
       "      <td>-0.174802</td>\n",
       "    </tr>\n",
       "    <tr>\n",
       "      <th>10</th>\n",
       "      <td>gas</td>\n",
       "      <td>0.085484</td>\n",
       "    </tr>\n",
       "    <tr>\n",
       "      <th>11</th>\n",
       "      <td>cycle</td>\n",
       "      <td>0.172529</td>\n",
       "    </tr>\n",
       "    <tr>\n",
       "      <th>12</th>\n",
       "      <td>steam</td>\n",
       "      <td>-0.103542</td>\n",
       "    </tr>\n",
       "    <tr>\n",
       "      <th>13</th>\n",
       "      <td>Line</td>\n",
       "      <td>-0.076978</td>\n",
       "    </tr>\n",
       "    <tr>\n",
       "      <th>14</th>\n",
       "      <td>Bus</td>\n",
       "      <td>-0.009614</td>\n",
       "    </tr>\n",
       "    <tr>\n",
       "      <th>15</th>\n",
       "      <td>Substation</td>\n",
       "      <td>-0.082306</td>\n",
       "    </tr>\n",
       "    <tr>\n",
       "      <th>16</th>\n",
       "      <td>TO_DCRT</td>\n",
       "      <td>-0.185328</td>\n",
       "    </tr>\n",
       "    <tr>\n",
       "      <th>17</th>\n",
       "      <td>TO_DSLK</td>\n",
       "      <td>-0.017009</td>\n",
       "    </tr>\n",
       "    <tr>\n",
       "      <th>18</th>\n",
       "      <td>TO_GLW</td>\n",
       "      <td>-0.210247</td>\n",
       "    </tr>\n",
       "    <tr>\n",
       "      <th>19</th>\n",
       "      <td>TO_IID</td>\n",
       "      <td>0.000000</td>\n",
       "    </tr>\n",
       "    <tr>\n",
       "      <th>20</th>\n",
       "      <td>TO_PGAE</td>\n",
       "      <td>0.046303</td>\n",
       "    </tr>\n",
       "    <tr>\n",
       "      <th>21</th>\n",
       "      <td>TO_SCE</td>\n",
       "      <td>-0.204117</td>\n",
       "    </tr>\n",
       "    <tr>\n",
       "      <th>22</th>\n",
       "      <td>TO_SDGE</td>\n",
       "      <td>0.300664</td>\n",
       "    </tr>\n",
       "    <tr>\n",
       "      <th>23</th>\n",
       "      <td>TO_VEA</td>\n",
       "      <td>0.017830</td>\n",
       "    </tr>\n",
       "    <tr>\n",
       "      <th>24</th>\n",
       "      <td>kv_115</td>\n",
       "      <td>-0.417350</td>\n",
       "    </tr>\n",
       "    <tr>\n",
       "      <th>25</th>\n",
       "      <td>kv_12</td>\n",
       "      <td>-0.260546</td>\n",
       "    </tr>\n",
       "    <tr>\n",
       "      <th>26</th>\n",
       "      <td>kv_127</td>\n",
       "      <td>0.183816</td>\n",
       "    </tr>\n",
       "    <tr>\n",
       "      <th>27</th>\n",
       "      <td>kv_138</td>\n",
       "      <td>-0.379061</td>\n",
       "    </tr>\n",
       "    <tr>\n",
       "      <th>28</th>\n",
       "      <td>kv_160</td>\n",
       "      <td>-0.098060</td>\n",
       "    </tr>\n",
       "    <tr>\n",
       "      <th>29</th>\n",
       "      <td>kv_161</td>\n",
       "      <td>-0.289554</td>\n",
       "    </tr>\n",
       "    <tr>\n",
       "      <th>30</th>\n",
       "      <td>kv_170</td>\n",
       "      <td>-0.087965</td>\n",
       "    </tr>\n",
       "    <tr>\n",
       "      <th>31</th>\n",
       "      <td>kv_220</td>\n",
       "      <td>-0.057267</td>\n",
       "    </tr>\n",
       "    <tr>\n",
       "      <th>32</th>\n",
       "      <td>kv_230</td>\n",
       "      <td>-0.423924</td>\n",
       "    </tr>\n",
       "    <tr>\n",
       "      <th>33</th>\n",
       "      <td>kv_260</td>\n",
       "      <td>-0.007001</td>\n",
       "    </tr>\n",
       "    <tr>\n",
       "      <th>34</th>\n",
       "      <td>kv_270</td>\n",
       "      <td>-0.042139</td>\n",
       "    </tr>\n",
       "    <tr>\n",
       "      <th>35</th>\n",
       "      <td>kv_345</td>\n",
       "      <td>-0.007066</td>\n",
       "    </tr>\n",
       "    <tr>\n",
       "      <th>36</th>\n",
       "      <td>kv_360</td>\n",
       "      <td>0.000000</td>\n",
       "    </tr>\n",
       "    <tr>\n",
       "      <th>37</th>\n",
       "      <td>kv_500</td>\n",
       "      <td>-0.336850</td>\n",
       "    </tr>\n",
       "    <tr>\n",
       "      <th>38</th>\n",
       "      <td>kv_55</td>\n",
       "      <td>0.000000</td>\n",
       "    </tr>\n",
       "    <tr>\n",
       "      <th>39</th>\n",
       "      <td>kv_60</td>\n",
       "      <td>-0.234990</td>\n",
       "    </tr>\n",
       "    <tr>\n",
       "      <th>40</th>\n",
       "      <td>kv_66</td>\n",
       "      <td>-0.239777</td>\n",
       "    </tr>\n",
       "    <tr>\n",
       "      <th>41</th>\n",
       "      <td>kv_69</td>\n",
       "      <td>-0.351777</td>\n",
       "    </tr>\n",
       "    <tr>\n",
       "      <th>42</th>\n",
       "      <td>kv_70</td>\n",
       "      <td>-0.373391</td>\n",
       "    </tr>\n",
       "    <tr>\n",
       "      <th>43</th>\n",
       "      <td>kv_8</td>\n",
       "      <td>-0.206586</td>\n",
       "    </tr>\n",
       "  </tbody>\n",
       "</table>\n",
       "</div>"
      ],
      "text/plain": [
       "           feature  coefficient\n",
       "0    Capacity (MW)    -1.118709\n",
       "1   Project Length     0.778763\n",
       "2     cogeneration     0.181677\n",
       "3       combustion    -0.007533\n",
       "4          thermal     0.072119\n",
       "5    reciprocating    -0.057147\n",
       "6          storage    -0.982870\n",
       "7     photovoltaic    -0.122386\n",
       "8            hydro    -0.303968\n",
       "9             wind    -0.174802\n",
       "10             gas     0.085484\n",
       "11           cycle     0.172529\n",
       "12           steam    -0.103542\n",
       "13            Line    -0.076978\n",
       "14             Bus    -0.009614\n",
       "15      Substation    -0.082306\n",
       "16         TO_DCRT    -0.185328\n",
       "17         TO_DSLK    -0.017009\n",
       "18          TO_GLW    -0.210247\n",
       "19          TO_IID     0.000000\n",
       "20         TO_PGAE     0.046303\n",
       "21          TO_SCE    -0.204117\n",
       "22         TO_SDGE     0.300664\n",
       "23          TO_VEA     0.017830\n",
       "24          kv_115    -0.417350\n",
       "25           kv_12    -0.260546\n",
       "26          kv_127     0.183816\n",
       "27          kv_138    -0.379061\n",
       "28          kv_160    -0.098060\n",
       "29          kv_161    -0.289554\n",
       "30          kv_170    -0.087965\n",
       "31          kv_220    -0.057267\n",
       "32          kv_230    -0.423924\n",
       "33          kv_260    -0.007001\n",
       "34          kv_270    -0.042139\n",
       "35          kv_345    -0.007066\n",
       "36          kv_360     0.000000\n",
       "37          kv_500    -0.336850\n",
       "38           kv_55     0.000000\n",
       "39           kv_60    -0.234990\n",
       "40           kv_66    -0.239777\n",
       "41           kv_69    -0.351777\n",
       "42           kv_70    -0.373391\n",
       "43            kv_8    -0.206586"
      ]
     },
     "execution_count": 121,
     "metadata": {},
     "output_type": "execute_result"
    }
   ],
   "source": [
    "# create a dataframe of the feature names and coefficients. \n",
    "#There's a lot of features for this to be interpretable\n",
    "\n",
    "feature_names = list(inactive.drop(columns='Status',axis=1).columns)\n",
    "coef_df = pd.DataFrame({\"feature\": feature_names, \"coefficient\": coef[0]})\n",
    "coef_df                   "
   ]
  },
  {
   "cell_type": "code",
   "execution_count": 123,
   "id": "34d10446",
   "metadata": {},
   "outputs": [
    {
     "data": {
      "image/png": "[encoded data removed]",
      "text/plain": [
       "<Figure size 640x480 with 1 Axes>"
      ]
     },
     "metadata": {},
     "output_type": "display_data"
    }
   ],
   "source": [
    "#These are the projects that have over 50% probability of being completed according to the model. \n",
    "#Let's join this with the original df.\n",
    "\n",
    "y_pred = pd.DataFrame(y_pred)\n",
    "#y_pred[y_pred[0] > .3]\n",
    "plt.hist(y_pred,bins=10)\n",
    "plt.show()"
   ]
  },
  {
   "cell_type": "code",
   "execution_count": 124,
   "id": "9f48b9e4",
   "metadata": {
    "collapsed": true
   },
   "outputs": [
    {
     "name": "stdout",
     "output_type": "stream",
     "text": [
      "Warning: Maximum number of iterations has been exceeded.\n",
      "         Current function value: inf\n",
      "         Iterations: 35\n"
     ]
    },
    {
     "name": "stderr",
     "output_type": "stream",
     "text": [
      "/Users/larsenburack/opt/anaconda3/lib/python3.9/site-packages/statsmodels/discrete/discrete_model.py:1819: RuntimeWarning: overflow encountered in exp\n",
      "  return 1/(1+np.exp(-X))\n",
      "/Users/larsenburack/opt/anaconda3/lib/python3.9/site-packages/statsmodels/discrete/discrete_model.py:1872: RuntimeWarning: divide by zero encountered in log\n",
      "  return np.sum(np.log(self.cdf(q*np.dot(X,params))))\n"
     ]
    },
    {
     "ename": "LinAlgError",
     "evalue": "Singular matrix",
     "output_type": "error",
     "traceback": [
      "\u001b[0;31m---------------------------------------------------------------------------\u001b[0m",
      "\u001b[0;31mLinAlgError\u001b[0m                               Traceback (most recent call last)",
      "\u001b[0;32m/var/folders/fb/lsg_5xw57mz9vhkmk6dvkfkw0000gn/T/ipykernel_1198/1247957618.py\u001b[0m in \u001b[0;36m<module>\u001b[0;34m\u001b[0m\n\u001b[1;32m      1\u001b[0m \u001b[0;31m# calculate the p-values using statsmodels\u001b[0m\u001b[0;34m\u001b[0m\u001b[0;34m\u001b[0m\u001b[0m\n\u001b[0;32m----> 2\u001b[0;31m \u001b[0mlogit_model\u001b[0m \u001b[0;34m=\u001b[0m \u001b[0msm\u001b[0m\u001b[0;34m.\u001b[0m\u001b[0mLogit\u001b[0m\u001b[0;34m(\u001b[0m\u001b[0my_test\u001b[0m\u001b[0;34m,\u001b[0m\u001b[0mX_test\u001b[0m\u001b[0;34m)\u001b[0m\u001b[0;34m.\u001b[0m\u001b[0mfit\u001b[0m\u001b[0;34m(\u001b[0m\u001b[0;34m)\u001b[0m\u001b[0;34m\u001b[0m\u001b[0;34m\u001b[0m\u001b[0m\n\u001b[0m\u001b[1;32m      3\u001b[0m \u001b[0;34m\u001b[0m\u001b[0m\n\u001b[1;32m      4\u001b[0m \u001b[0;31m#result=logit_model.fit()\u001b[0m\u001b[0;34m\u001b[0m\u001b[0;34m\u001b[0m\u001b[0m\n\u001b[1;32m      5\u001b[0m \u001b[0mlogit_model\u001b[0m\u001b[0;34m.\u001b[0m\u001b[0msummary\u001b[0m\u001b[0;34m(\u001b[0m\u001b[0;34m)\u001b[0m\u001b[0;34m\u001b[0m\u001b[0;34m\u001b[0m\u001b[0m\n",
      "\u001b[0;32m~/opt/anaconda3/lib/python3.9/site-packages/statsmodels/discrete/discrete_model.py\u001b[0m in \u001b[0;36mfit\u001b[0;34m(self, start_params, method, maxiter, full_output, disp, callback, **kwargs)\u001b[0m\n\u001b[1;32m   1981\u001b[0m     def fit(self, start_params=None, method='newton', maxiter=35,\n\u001b[1;32m   1982\u001b[0m             full_output=1, disp=1, callback=None, **kwargs):\n\u001b[0;32m-> 1983\u001b[0;31m         bnryfit = super().fit(start_params=start_params,\n\u001b[0m\u001b[1;32m   1984\u001b[0m                               \u001b[0mmethod\u001b[0m\u001b[0;34m=\u001b[0m\u001b[0mmethod\u001b[0m\u001b[0;34m,\u001b[0m\u001b[0;34m\u001b[0m\u001b[0;34m\u001b[0m\u001b[0m\n\u001b[1;32m   1985\u001b[0m                               \u001b[0mmaxiter\u001b[0m\u001b[0;34m=\u001b[0m\u001b[0mmaxiter\u001b[0m\u001b[0;34m,\u001b[0m\u001b[0;34m\u001b[0m\u001b[0;34m\u001b[0m\u001b[0m\n",
      "\u001b[0;32m~/opt/anaconda3/lib/python3.9/site-packages/statsmodels/discrete/discrete_model.py\u001b[0m in \u001b[0;36mfit\u001b[0;34m(self, start_params, method, maxiter, full_output, disp, callback, **kwargs)\u001b[0m\n\u001b[1;32m    228\u001b[0m             \u001b[0;32mpass\u001b[0m  \u001b[0;31m# TODO: make a function factory to have multiple call-backs\u001b[0m\u001b[0;34m\u001b[0m\u001b[0;34m\u001b[0m\u001b[0m\n\u001b[1;32m    229\u001b[0m \u001b[0;34m\u001b[0m\u001b[0m\n\u001b[0;32m--> 230\u001b[0;31m         mlefit = super().fit(start_params=start_params,\n\u001b[0m\u001b[1;32m    231\u001b[0m                              \u001b[0mmethod\u001b[0m\u001b[0;34m=\u001b[0m\u001b[0mmethod\u001b[0m\u001b[0;34m,\u001b[0m\u001b[0;34m\u001b[0m\u001b[0;34m\u001b[0m\u001b[0m\n\u001b[1;32m    232\u001b[0m                              \u001b[0mmaxiter\u001b[0m\u001b[0;34m=\u001b[0m\u001b[0mmaxiter\u001b[0m\u001b[0;34m,\u001b[0m\u001b[0;34m\u001b[0m\u001b[0;34m\u001b[0m\u001b[0m\n",
      "\u001b[0;32m~/opt/anaconda3/lib/python3.9/site-packages/statsmodels/base/model.py\u001b[0m in \u001b[0;36mfit\u001b[0;34m(self, start_params, method, maxiter, full_output, disp, fargs, callback, retall, skip_hessian, **kwargs)\u001b[0m\n\u001b[1;32m    577\u001b[0m             \u001b[0mHinv\u001b[0m \u001b[0;34m=\u001b[0m \u001b[0mcov_params_func\u001b[0m\u001b[0;34m(\u001b[0m\u001b[0mself\u001b[0m\u001b[0;34m,\u001b[0m \u001b[0mxopt\u001b[0m\u001b[0;34m,\u001b[0m \u001b[0mretvals\u001b[0m\u001b[0;34m)\u001b[0m\u001b[0;34m\u001b[0m\u001b[0;34m\u001b[0m\u001b[0m\n\u001b[1;32m    578\u001b[0m         \u001b[0;32melif\u001b[0m \u001b[0mmethod\u001b[0m \u001b[0;34m==\u001b[0m \u001b[0;34m'newton'\u001b[0m \u001b[0;32mand\u001b[0m \u001b[0mfull_output\u001b[0m\u001b[0;34m:\u001b[0m\u001b[0;34m\u001b[0m\u001b[0;34m\u001b[0m\u001b[0m\n\u001b[0;32m--> 579\u001b[0;31m             \u001b[0mHinv\u001b[0m \u001b[0;34m=\u001b[0m \u001b[0mnp\u001b[0m\u001b[0;34m.\u001b[0m\u001b[0mlinalg\u001b[0m\u001b[0;34m.\u001b[0m\u001b[0minv\u001b[0m\u001b[0;34m(\u001b[0m\u001b[0;34m-\u001b[0m\u001b[0mretvals\u001b[0m\u001b[0;34m[\u001b[0m\u001b[0;34m'Hessian'\u001b[0m\u001b[0;34m]\u001b[0m\u001b[0;34m)\u001b[0m \u001b[0;34m/\u001b[0m \u001b[0mnobs\u001b[0m\u001b[0;34m\u001b[0m\u001b[0;34m\u001b[0m\u001b[0m\n\u001b[0m\u001b[1;32m    580\u001b[0m         \u001b[0;32melif\u001b[0m \u001b[0;32mnot\u001b[0m \u001b[0mskip_hessian\u001b[0m\u001b[0;34m:\u001b[0m\u001b[0;34m\u001b[0m\u001b[0;34m\u001b[0m\u001b[0m\n\u001b[1;32m    581\u001b[0m             \u001b[0mH\u001b[0m \u001b[0;34m=\u001b[0m \u001b[0;34m-\u001b[0m\u001b[0;36m1\u001b[0m \u001b[0;34m*\u001b[0m \u001b[0mself\u001b[0m\u001b[0;34m.\u001b[0m\u001b[0mhessian\u001b[0m\u001b[0;34m(\u001b[0m\u001b[0mxopt\u001b[0m\u001b[0;34m)\u001b[0m\u001b[0;34m\u001b[0m\u001b[0;34m\u001b[0m\u001b[0m\n",
      "\u001b[0;32m<__array_function__ internals>\u001b[0m in \u001b[0;36minv\u001b[0;34m(*args, **kwargs)\u001b[0m\n",
      "\u001b[0;32m~/opt/anaconda3/lib/python3.9/site-packages/numpy/linalg/linalg.py\u001b[0m in \u001b[0;36minv\u001b[0;34m(a)\u001b[0m\n\u001b[1;32m    543\u001b[0m     \u001b[0msignature\u001b[0m \u001b[0;34m=\u001b[0m \u001b[0;34m'D->D'\u001b[0m \u001b[0;32mif\u001b[0m \u001b[0misComplexType\u001b[0m\u001b[0;34m(\u001b[0m\u001b[0mt\u001b[0m\u001b[0;34m)\u001b[0m \u001b[0;32melse\u001b[0m \u001b[0;34m'd->d'\u001b[0m\u001b[0;34m\u001b[0m\u001b[0;34m\u001b[0m\u001b[0m\n\u001b[1;32m    544\u001b[0m     \u001b[0mextobj\u001b[0m \u001b[0;34m=\u001b[0m \u001b[0mget_linalg_error_extobj\u001b[0m\u001b[0;34m(\u001b[0m\u001b[0m_raise_linalgerror_singular\u001b[0m\u001b[0;34m)\u001b[0m\u001b[0;34m\u001b[0m\u001b[0;34m\u001b[0m\u001b[0m\n\u001b[0;32m--> 545\u001b[0;31m     \u001b[0mainv\u001b[0m \u001b[0;34m=\u001b[0m \u001b[0m_umath_linalg\u001b[0m\u001b[0;34m.\u001b[0m\u001b[0minv\u001b[0m\u001b[0;34m(\u001b[0m\u001b[0ma\u001b[0m\u001b[0;34m,\u001b[0m \u001b[0msignature\u001b[0m\u001b[0;34m=\u001b[0m\u001b[0msignature\u001b[0m\u001b[0;34m,\u001b[0m \u001b[0mextobj\u001b[0m\u001b[0;34m=\u001b[0m\u001b[0mextobj\u001b[0m\u001b[0;34m)\u001b[0m\u001b[0;34m\u001b[0m\u001b[0;34m\u001b[0m\u001b[0m\n\u001b[0m\u001b[1;32m    546\u001b[0m     \u001b[0;32mreturn\u001b[0m \u001b[0mwrap\u001b[0m\u001b[0;34m(\u001b[0m\u001b[0mainv\u001b[0m\u001b[0;34m.\u001b[0m\u001b[0mastype\u001b[0m\u001b[0;34m(\u001b[0m\u001b[0mresult_t\u001b[0m\u001b[0;34m,\u001b[0m \u001b[0mcopy\u001b[0m\u001b[0;34m=\u001b[0m\u001b[0;32mFalse\u001b[0m\u001b[0;34m)\u001b[0m\u001b[0;34m)\u001b[0m\u001b[0;34m\u001b[0m\u001b[0;34m\u001b[0m\u001b[0m\n\u001b[1;32m    547\u001b[0m \u001b[0;34m\u001b[0m\u001b[0m\n",
      "\u001b[0;32m~/opt/anaconda3/lib/python3.9/site-packages/numpy/linalg/linalg.py\u001b[0m in \u001b[0;36m_raise_linalgerror_singular\u001b[0;34m(err, flag)\u001b[0m\n\u001b[1;32m     86\u001b[0m \u001b[0;34m\u001b[0m\u001b[0m\n\u001b[1;32m     87\u001b[0m \u001b[0;32mdef\u001b[0m \u001b[0m_raise_linalgerror_singular\u001b[0m\u001b[0;34m(\u001b[0m\u001b[0merr\u001b[0m\u001b[0;34m,\u001b[0m \u001b[0mflag\u001b[0m\u001b[0;34m)\u001b[0m\u001b[0;34m:\u001b[0m\u001b[0;34m\u001b[0m\u001b[0;34m\u001b[0m\u001b[0m\n\u001b[0;32m---> 88\u001b[0;31m     \u001b[0;32mraise\u001b[0m \u001b[0mLinAlgError\u001b[0m\u001b[0;34m(\u001b[0m\u001b[0;34m\"Singular matrix\"\u001b[0m\u001b[0;34m)\u001b[0m\u001b[0;34m\u001b[0m\u001b[0;34m\u001b[0m\u001b[0m\n\u001b[0m\u001b[1;32m     89\u001b[0m \u001b[0;34m\u001b[0m\u001b[0m\n\u001b[1;32m     90\u001b[0m \u001b[0;32mdef\u001b[0m \u001b[0m_raise_linalgerror_nonposdef\u001b[0m\u001b[0;34m(\u001b[0m\u001b[0merr\u001b[0m\u001b[0;34m,\u001b[0m \u001b[0mflag\u001b[0m\u001b[0;34m)\u001b[0m\u001b[0;34m:\u001b[0m\u001b[0;34m\u001b[0m\u001b[0;34m\u001b[0m\u001b[0m\n",
      "\u001b[0;31mLinAlgError\u001b[0m: Singular matrix"
     ]
    }
   ],
   "source": [
    "# calculate the p-values using statsmodels\n",
    "logit_model = sm.Logit(y_test,X_test).fit()\n",
    "\n",
    "#result=logit_model.fit()\n",
    "logit_model.summary()\n",
    "\n",
    "#This model won't fit which means there might be too many parameters. This is likely since there are 44."
   ]
  },
  {
   "cell_type": "markdown",
   "id": "d198c243",
   "metadata": {},
   "source": [
    "## Condensing the parameters"
   ]
  },
  {
   "cell_type": "code",
   "execution_count": 125,
   "id": "39f9b5d9",
   "metadata": {},
   "outputs": [
    {
     "name": "stdout",
     "output_type": "stream",
     "text": [
      "<class 'pandas.core.frame.DataFrame'>\n",
      "Int64Index: 2258 entries, 4253 to 6530\n",
      "Data columns (total 45 columns):\n",
      " #   Column          Non-Null Count  Dtype  \n",
      "---  ------          --------------  -----  \n",
      " 0   Capacity (MW)   2258 non-null   float64\n",
      " 1   Status          2258 non-null   object \n",
      " 2   Project Length  2258 non-null   int64  \n",
      " 3   cogeneration    2258 non-null   bool   \n",
      " 4   combustion      2258 non-null   bool   \n",
      " 5   thermal         2258 non-null   bool   \n",
      " 6   reciprocating   2258 non-null   bool   \n",
      " 7   storage         2258 non-null   bool   \n",
      " 8   photovoltaic    2258 non-null   bool   \n",
      " 9   hydro           2258 non-null   bool   \n",
      " 10  wind            2258 non-null   bool   \n",
      " 11  gas             2258 non-null   bool   \n",
      " 12  cycle           2258 non-null   bool   \n",
      " 13  steam           2258 non-null   bool   \n",
      " 14  Line            2258 non-null   bool   \n",
      " 15  Bus             2258 non-null   bool   \n",
      " 16  Substation      2258 non-null   bool   \n",
      " 17  TO_DCRT         2258 non-null   uint8  \n",
      " 18  TO_DSLK         2258 non-null   uint8  \n",
      " 19  TO_GLW          2258 non-null   uint8  \n",
      " 20  TO_IID          2258 non-null   uint8  \n",
      " 21  TO_PGAE         2258 non-null   uint8  \n",
      " 22  TO_SCE          2258 non-null   uint8  \n",
      " 23  TO_SDGE         2258 non-null   uint8  \n",
      " 24  TO_VEA          2258 non-null   uint8  \n",
      " 25  kv_115          2258 non-null   uint8  \n",
      " 26  kv_12           2258 non-null   uint8  \n",
      " 27  kv_127          2258 non-null   uint8  \n",
      " 28  kv_138          2258 non-null   uint8  \n",
      " 29  kv_160          2258 non-null   uint8  \n",
      " 30  kv_161          2258 non-null   uint8  \n",
      " 31  kv_170          2258 non-null   uint8  \n",
      " 32  kv_220          2258 non-null   uint8  \n",
      " 33  kv_230          2258 non-null   uint8  \n",
      " 34  kv_260          2258 non-null   uint8  \n",
      " 35  kv_270          2258 non-null   uint8  \n",
      " 36  kv_345          2258 non-null   uint8  \n",
      " 37  kv_360          2258 non-null   uint8  \n",
      " 38  kv_500          2258 non-null   uint8  \n",
      " 39  kv_55           2258 non-null   uint8  \n",
      " 40  kv_60           2258 non-null   uint8  \n",
      " 41  kv_66           2258 non-null   uint8  \n",
      " 42  kv_69           2258 non-null   uint8  \n",
      " 43  kv_70           2258 non-null   uint8  \n",
      " 44  kv_8            2258 non-null   uint8  \n",
      "dtypes: bool(14), float64(1), int64(1), object(1), uint8(28)\n",
      "memory usage: 163.2+ KB\n"
     ]
    }
   ],
   "source": [
    "model_df.info()"
   ]
  },
  {
   "cell_type": "code",
   "execution_count": 126,
   "id": "3e1d6464",
   "metadata": {},
   "outputs": [
    {
     "data": {
      "text/plain": [
       "Index(['Capacity (MW)', 'Status', 'Project Length', 'cogeneration',\n",
       "       'combustion', 'thermal', 'reciprocating', 'storage', 'photovoltaic',\n",
       "       'hydro', 'wind', 'gas', 'cycle', 'steam', 'Line', 'Bus', 'Substation',\n",
       "       'TO_DCRT', 'TO_DSLK', 'TO_GLW', 'TO_IID', 'TO_PGAE', 'TO_SCE',\n",
       "       'TO_SDGE', 'TO_VEA', 'kv_115', 'kv_12', 'kv_127', 'kv_138', 'kv_160',\n",
       "       'kv_161', 'kv_170', 'kv_220', 'kv_230', 'kv_260', 'kv_270', 'kv_345',\n",
       "       'kv_360', 'kv_500', 'kv_55', 'kv_60', 'kv_66', 'kv_69', 'kv_70',\n",
       "       'kv_8'],\n",
       "      dtype='object')"
      ]
     },
     "execution_count": 126,
     "metadata": {},
     "output_type": "execute_result"
    }
   ],
   "source": [
    "cols = model_df.columns\n",
    "cols\n",
    "# for c in cols:\n",
    "#     if '_' in c:\n",
    "#         cols.remove(c)\n",
    "# cols"
   ]
  },
  {
   "cell_type": "code",
   "execution_count": 127,
   "id": "1f9e6cdd",
   "metadata": {},
   "outputs": [],
   "source": [
    "for c in list(model_df.columns):\n",
    "    if '_' in c:\n",
    "        #print(c)\n",
    "        model_df = model_df.drop(columns=c)"
   ]
  },
  {
   "cell_type": "code",
   "execution_count": 128,
   "id": "56965382",
   "metadata": {},
   "outputs": [
    {
     "name": "stdout",
     "output_type": "stream",
     "text": [
      "<class 'pandas.core.frame.DataFrame'>\n",
      "Int64Index: 2258 entries, 4253 to 6530\n",
      "Data columns (total 17 columns):\n",
      " #   Column          Non-Null Count  Dtype  \n",
      "---  ------          --------------  -----  \n",
      " 0   Capacity (MW)   2258 non-null   float64\n",
      " 1   Status          2258 non-null   object \n",
      " 2   Project Length  2258 non-null   int64  \n",
      " 3   cogeneration    2258 non-null   bool   \n",
      " 4   combustion      2258 non-null   bool   \n",
      " 5   thermal         2258 non-null   bool   \n",
      " 6   reciprocating   2258 non-null   bool   \n",
      " 7   storage         2258 non-null   bool   \n",
      " 8   photovoltaic    2258 non-null   bool   \n",
      " 9   hydro           2258 non-null   bool   \n",
      " 10  wind            2258 non-null   bool   \n",
      " 11  gas             2258 non-null   bool   \n",
      " 12  cycle           2258 non-null   bool   \n",
      " 13  steam           2258 non-null   bool   \n",
      " 14  Line            2258 non-null   bool   \n",
      " 15  Bus             2258 non-null   bool   \n",
      " 16  Substation      2258 non-null   bool   \n",
      "dtypes: bool(14), float64(1), int64(1), object(1)\n",
      "memory usage: 101.4+ KB\n"
     ]
    }
   ],
   "source": [
    "#Consolidated dataframe\n",
    "\n",
    "model_df.info()"
   ]
  },
  {
   "cell_type": "markdown",
   "id": "ea388e2e",
   "metadata": {},
   "source": [
    "## LogReg Attempt 2"
   ]
  },
  {
   "cell_type": "code",
   "execution_count": 129,
   "id": "621d40a5",
   "metadata": {},
   "outputs": [],
   "source": [
    "#Split the active projects from the completed/withdraawn projects to first analyze the completed/withdrawn projects\n",
    "\n",
    "active2 = model_df[model_df[\"Status\"] == \"ACTIVE\"]\n",
    "inactive2 = model_df[model_df[\"Status\"] != \"ACTIVE\"]\n",
    "\n",
    "#Create X and y for model\n",
    "X = inactive2.drop(columns=\"Status\").astype('float64')\n",
    "y = pd.get_dummies(inactive2[\"Status\"]).drop(columns='WITHDRAWN').rename(columns={'COMPLETED':'Status'}).astype('float64')\n",
    "#Split data for models\n",
    "\n",
    "X_train, X_test, y_train, y_test = train_test_split(X, y, test_size = 0.4, random_state = 42)"
   ]
  },
  {
   "cell_type": "code",
   "execution_count": 130,
   "id": "17040add",
   "metadata": {},
   "outputs": [],
   "source": [
    "#Normalize data because we incorporate categorical and numerical variables, all measured differently\n",
    "scaler = StandardScaler()\n",
    "X_train = scaler.fit_transform(X_train)\n",
    "X_test = scaler.transform(X_test)\n",
    "\n",
    "#Create and fit logistic regression model\n",
    "model = LogisticRegression(penalty='l2')\n",
    "model.fit(X_train, y_train.values.ravel())\n",
    "\n",
    "#Make predictions on test set\n",
    "predictions = model.predict(X_test)\n",
    "\n",
    "#Evaluate model performance\n",
    "accuracy = model.score(X_test, y_test)"
   ]
  },
  {
   "cell_type": "code",
   "execution_count": 131,
   "id": "14784a78",
   "metadata": {},
   "outputs": [
    {
     "data": {
      "text/plain": [
       "0.9025069637883009"
      ]
     },
     "execution_count": 131,
     "metadata": {},
     "output_type": "execute_result"
    }
   ],
   "source": [
    "accuracy"
   ]
  },
  {
   "cell_type": "code",
   "execution_count": 132,
   "id": "1fef074e",
   "metadata": {},
   "outputs": [],
   "source": [
    "#To get p values:\n",
    "\n",
    "# add a column of ones for the intercept in X_test\n",
    "X_test = sm.add_constant(X_test) #but now we're saying this doesn't work\n",
    "\n",
    "# predict the probabilities of y_test using X_test and logreg\n",
    "y_pred = model.predict_proba(X_test)[:,1]"
   ]
  },
  {
   "cell_type": "code",
   "execution_count": 133,
   "id": "e05e7776",
   "metadata": {},
   "outputs": [
    {
     "data": {
      "text/plain": [
       "array([-2.67012835])"
      ]
     },
     "execution_count": 133,
     "metadata": {},
     "output_type": "execute_result"
    }
   ],
   "source": [
    "coef = model.coef_\n",
    "intercept = model.intercept_\n",
    "intercept"
   ]
  },
  {
   "cell_type": "code",
   "execution_count": 134,
   "id": "67aa56e0",
   "metadata": {},
   "outputs": [
    {
     "name": "stderr",
     "output_type": "stream",
     "text": [
      "/Users/larsenburack/opt/anaconda3/lib/python3.9/site-packages/sklearn/base.py:443: UserWarning: X has feature names, but LogisticRegression was fitted without feature names\n",
      "  warnings.warn(\n"
     ]
    },
    {
     "data": {
      "text/plain": [
       "0.11594202898550725"
      ]
     },
     "execution_count": 134,
     "metadata": {},
     "output_type": "execute_result"
    }
   ],
   "source": [
    "#Not very good\n",
    "\n",
    "model.score(X,y)"
   ]
  },
  {
   "cell_type": "code",
   "execution_count": 135,
   "id": "711a2526",
   "metadata": {},
   "outputs": [
    {
     "data": {
      "text/html": [
       "<div>\n",
       "<style scoped>\n",
       "    .dataframe tbody tr th:only-of-type {\n",
       "        vertical-align: middle;\n",
       "    }\n",
       "\n",
       "    .dataframe tbody tr th {\n",
       "        vertical-align: top;\n",
       "    }\n",
       "\n",
       "    .dataframe thead th {\n",
       "        text-align: right;\n",
       "    }\n",
       "</style>\n",
       "<table border=\"1\" class=\"dataframe\">\n",
       "  <thead>\n",
       "    <tr style=\"text-align: right;\">\n",
       "      <th></th>\n",
       "      <th>feature</th>\n",
       "      <th>coefficient</th>\n",
       "    </tr>\n",
       "  </thead>\n",
       "  <tbody>\n",
       "    <tr>\n",
       "      <th>1</th>\n",
       "      <td>Project Length</td>\n",
       "      <td>0.747385</td>\n",
       "    </tr>\n",
       "    <tr>\n",
       "      <th>2</th>\n",
       "      <td>cogeneration</td>\n",
       "      <td>0.201323</td>\n",
       "    </tr>\n",
       "    <tr>\n",
       "      <th>11</th>\n",
       "      <td>cycle</td>\n",
       "      <td>0.162938</td>\n",
       "    </tr>\n",
       "    <tr>\n",
       "      <th>10</th>\n",
       "      <td>gas</td>\n",
       "      <td>0.111460</td>\n",
       "    </tr>\n",
       "    <tr>\n",
       "      <th>4</th>\n",
       "      <td>thermal</td>\n",
       "      <td>0.074605</td>\n",
       "    </tr>\n",
       "    <tr>\n",
       "      <th>3</th>\n",
       "      <td>combustion</td>\n",
       "      <td>0.018441</td>\n",
       "    </tr>\n",
       "    <tr>\n",
       "      <th>5</th>\n",
       "      <td>reciprocating</td>\n",
       "      <td>-0.043177</td>\n",
       "    </tr>\n",
       "    <tr>\n",
       "      <th>15</th>\n",
       "      <td>Substation</td>\n",
       "      <td>-0.093833</td>\n",
       "    </tr>\n",
       "    <tr>\n",
       "      <th>14</th>\n",
       "      <td>Bus</td>\n",
       "      <td>-0.095373</td>\n",
       "    </tr>\n",
       "    <tr>\n",
       "      <th>12</th>\n",
       "      <td>steam</td>\n",
       "      <td>-0.118072</td>\n",
       "    </tr>\n",
       "    <tr>\n",
       "      <th>13</th>\n",
       "      <td>Line</td>\n",
       "      <td>-0.155255</td>\n",
       "    </tr>\n",
       "    <tr>\n",
       "      <th>9</th>\n",
       "      <td>wind</td>\n",
       "      <td>-0.204928</td>\n",
       "    </tr>\n",
       "    <tr>\n",
       "      <th>7</th>\n",
       "      <td>photovoltaic</td>\n",
       "      <td>-0.268684</td>\n",
       "    </tr>\n",
       "    <tr>\n",
       "      <th>8</th>\n",
       "      <td>hydro</td>\n",
       "      <td>-0.326938</td>\n",
       "    </tr>\n",
       "    <tr>\n",
       "      <th>6</th>\n",
       "      <td>storage</td>\n",
       "      <td>-1.015443</td>\n",
       "    </tr>\n",
       "    <tr>\n",
       "      <th>0</th>\n",
       "      <td>Capacity (MW)</td>\n",
       "      <td>-1.038160</td>\n",
       "    </tr>\n",
       "  </tbody>\n",
       "</table>\n",
       "</div>"
      ],
      "text/plain": [
       "           feature  coefficient\n",
       "1   Project Length     0.747385\n",
       "2     cogeneration     0.201323\n",
       "11           cycle     0.162938\n",
       "10             gas     0.111460\n",
       "4          thermal     0.074605\n",
       "3       combustion     0.018441\n",
       "5    reciprocating    -0.043177\n",
       "15      Substation    -0.093833\n",
       "14             Bus    -0.095373\n",
       "12           steam    -0.118072\n",
       "13            Line    -0.155255\n",
       "9             wind    -0.204928\n",
       "7     photovoltaic    -0.268684\n",
       "8            hydro    -0.326938\n",
       "6          storage    -1.015443\n",
       "0    Capacity (MW)    -1.038160"
      ]
     },
     "execution_count": 135,
     "metadata": {},
     "output_type": "execute_result"
    }
   ],
   "source": [
    "#for this to be interpretable\n",
    "# create a dataframe of the feature names and coefficients. \n",
    "\n",
    "feature_names = list(inactive2.drop(columns='Status',axis=1).columns)\n",
    "coef_df = pd.DataFrame({\"feature\": feature_names, \"coefficient\": coef[0]})\n",
    "coef_df.sort_values('coefficient', ascending=False)"
   ]
  },
  {
   "cell_type": "code",
   "execution_count": 136,
   "id": "680d45d6",
   "metadata": {},
   "outputs": [
    {
     "data": {
      "image/png": "[encoded data removed]",
      "text/plain": [
       "<Figure size 640x480 with 1 Axes>"
      ]
     },
     "metadata": {},
     "output_type": "display_data"
    }
   ],
   "source": [
    "#These are the projects that have over 50% probability of being completed according to the model. \n",
    "#Let's join this with the original df.\n",
    "\n",
    "y_pred = pd.DataFrame(y_pred)\n",
    "#y_pred[y_pred[0] > .3]\n",
    "plt.hist(y_pred,bins=10)\n",
    "plt.show()"
   ]
  },
  {
   "cell_type": "code",
   "execution_count": 137,
   "id": "2bf03634",
   "metadata": {
    "scrolled": false
   },
   "outputs": [
    {
     "name": "stdout",
     "output_type": "stream",
     "text": [
      "Warning: Maximum number of iterations has been exceeded.\n",
      "         Current function value: 0.263440\n",
      "         Iterations: 35\n"
     ]
    },
    {
     "name": "stderr",
     "output_type": "stream",
     "text": [
      "/Users/larsenburack/opt/anaconda3/lib/python3.9/site-packages/statsmodels/base/model.py:604: ConvergenceWarning: Maximum Likelihood optimization failed to converge. Check mle_retvals\n",
      "  warnings.warn(\"Maximum Likelihood optimization failed to \"\n"
     ]
    },
    {
     "data": {
      "text/html": [
       "<table class=\"simpletable\">\n",
       "<caption>Logit Regression Results</caption>\n",
       "<tr>\n",
       "  <th>Dep. Variable:</th>        <td>Status</td>      <th>  No. Observations:  </th>  <td>   718</td>  \n",
       "</tr>\n",
       "<tr>\n",
       "  <th>Model:</th>                 <td>Logit</td>      <th>  Df Residuals:      </th>  <td>   702</td>  \n",
       "</tr>\n",
       "<tr>\n",
       "  <th>Method:</th>                 <td>MLE</td>       <th>  Df Model:          </th>  <td>    15</td>  \n",
       "</tr>\n",
       "<tr>\n",
       "  <th>Date:</th>            <td>Sun, 16 Apr 2023</td> <th>  Pseudo R-squ.:     </th>  <td>0.1506</td>  \n",
       "</tr>\n",
       "<tr>\n",
       "  <th>Time:</th>                <td>13:21:16</td>     <th>  Log-Likelihood:    </th> <td> -189.15</td> \n",
       "</tr>\n",
       "<tr>\n",
       "  <th>converged:</th>             <td>False</td>      <th>  LL-Null:           </th> <td> -222.68</td> \n",
       "</tr>\n",
       "<tr>\n",
       "  <th>Covariance Type:</th>     <td>nonrobust</td>    <th>  LLR p-value:       </th> <td>1.483e-08</td>\n",
       "</tr>\n",
       "</table>\n",
       "<table class=\"simpletable\">\n",
       "<tr>\n",
       "   <td></td>      <th>coef</th>     <th>std err</th>      <th>z</th>      <th>P>|z|</th>  <th>[0.025</th>    <th>0.975]</th>  \n",
       "</tr>\n",
       "<tr>\n",
       "  <th>x1</th>  <td>   -1.1745</td> <td>    0.296</td> <td>   -3.970</td> <td> 0.000</td> <td>   -1.754</td> <td>   -0.595</td>\n",
       "</tr>\n",
       "<tr>\n",
       "  <th>x2</th>  <td>    0.8104</td> <td>    0.143</td> <td>    5.668</td> <td> 0.000</td> <td>    0.530</td> <td>    1.091</td>\n",
       "</tr>\n",
       "<tr>\n",
       "  <th>x3</th>  <td>   -0.7706</td> <td>  2.8e+04</td> <td>-2.75e-05</td> <td> 1.000</td> <td>-5.49e+04</td> <td> 5.49e+04</td>\n",
       "</tr>\n",
       "<tr>\n",
       "  <th>x4</th>  <td>    0.0807</td> <td>    0.170</td> <td>    0.475</td> <td> 0.635</td> <td>   -0.252</td> <td>    0.413</td>\n",
       "</tr>\n",
       "<tr>\n",
       "  <th>x5</th>  <td>   45.8225</td> <td> 1.47e+04</td> <td>    0.003</td> <td> 0.998</td> <td>-2.88e+04</td> <td> 2.89e+04</td>\n",
       "</tr>\n",
       "<tr>\n",
       "  <th>x6</th>  <td>   -1.7052</td> <td> 3400.545</td> <td>   -0.001</td> <td> 1.000</td> <td>-6666.650</td> <td> 6663.240</td>\n",
       "</tr>\n",
       "<tr>\n",
       "  <th>x7</th>  <td>   -0.3806</td> <td>    0.249</td> <td>   -1.526</td> <td> 0.127</td> <td>   -0.870</td> <td>    0.108</td>\n",
       "</tr>\n",
       "<tr>\n",
       "  <th>x8</th>  <td>   -0.0300</td> <td>    0.321</td> <td>   -0.093</td> <td> 0.926</td> <td>   -0.660</td> <td>    0.600</td>\n",
       "</tr>\n",
       "<tr>\n",
       "  <th>x9</th>  <td>    0.3316</td> <td>    0.195</td> <td>    1.704</td> <td> 0.088</td> <td>   -0.050</td> <td>    0.713</td>\n",
       "</tr>\n",
       "<tr>\n",
       "  <th>x10</th> <td>   -0.0895</td> <td>    0.234</td> <td>   -0.382</td> <td> 0.702</td> <td>   -0.549</td> <td>    0.370</td>\n",
       "</tr>\n",
       "<tr>\n",
       "  <th>x11</th> <td>   -0.1552</td> <td>    0.235</td> <td>   -0.660</td> <td> 0.509</td> <td>   -0.616</td> <td>    0.306</td>\n",
       "</tr>\n",
       "<tr>\n",
       "  <th>x12</th> <td>    0.0926</td> <td>    0.231</td> <td>    0.401</td> <td> 0.689</td> <td>   -0.360</td> <td>    0.545</td>\n",
       "</tr>\n",
       "<tr>\n",
       "  <th>x13</th> <td>   -0.1344</td> <td>    0.239</td> <td>   -0.563</td> <td> 0.573</td> <td>   -0.602</td> <td>    0.333</td>\n",
       "</tr>\n",
       "<tr>\n",
       "  <th>x14</th> <td>    0.0720</td> <td>    0.160</td> <td>    0.450</td> <td> 0.653</td> <td>   -0.242</td> <td>    0.386</td>\n",
       "</tr>\n",
       "<tr>\n",
       "  <th>x15</th> <td>    0.0366</td> <td>    0.141</td> <td>    0.260</td> <td> 0.795</td> <td>   -0.240</td> <td>    0.313</td>\n",
       "</tr>\n",
       "<tr>\n",
       "  <th>x16</th> <td>   -0.0940</td> <td>    0.167</td> <td>   -0.562</td> <td> 0.574</td> <td>   -0.422</td> <td>    0.234</td>\n",
       "</tr>\n",
       "</table>"
      ],
      "text/plain": [
       "<class 'statsmodels.iolib.summary.Summary'>\n",
       "\"\"\"\n",
       "                           Logit Regression Results                           \n",
       "==============================================================================\n",
       "Dep. Variable:                 Status   No. Observations:                  718\n",
       "Model:                          Logit   Df Residuals:                      702\n",
       "Method:                           MLE   Df Model:                           15\n",
       "Date:                Sun, 16 Apr 2023   Pseudo R-squ.:                  0.1506\n",
       "Time:                        13:21:16   Log-Likelihood:                -189.15\n",
       "converged:                      False   LL-Null:                       -222.68\n",
       "Covariance Type:            nonrobust   LLR p-value:                 1.483e-08\n",
       "==============================================================================\n",
       "                 coef    std err          z      P>|z|      [0.025      0.975]\n",
       "------------------------------------------------------------------------------\n",
       "x1            -1.1745      0.296     -3.970      0.000      -1.754      -0.595\n",
       "x2             0.8104      0.143      5.668      0.000       0.530       1.091\n",
       "x3            -0.7706    2.8e+04  -2.75e-05      1.000   -5.49e+04    5.49e+04\n",
       "x4             0.0807      0.170      0.475      0.635      -0.252       0.413\n",
       "x5            45.8225   1.47e+04      0.003      0.998   -2.88e+04    2.89e+04\n",
       "x6            -1.7052   3400.545     -0.001      1.000   -6666.650    6663.240\n",
       "x7            -0.3806      0.249     -1.526      0.127      -0.870       0.108\n",
       "x8            -0.0300      0.321     -0.093      0.926      -0.660       0.600\n",
       "x9             0.3316      0.195      1.704      0.088      -0.050       0.713\n",
       "x10           -0.0895      0.234     -0.382      0.702      -0.549       0.370\n",
       "x11           -0.1552      0.235     -0.660      0.509      -0.616       0.306\n",
       "x12            0.0926      0.231      0.401      0.689      -0.360       0.545\n",
       "x13           -0.1344      0.239     -0.563      0.573      -0.602       0.333\n",
       "x14            0.0720      0.160      0.450      0.653      -0.242       0.386\n",
       "x15            0.0366      0.141      0.260      0.795      -0.240       0.313\n",
       "x16           -0.0940      0.167     -0.562      0.574      -0.422       0.234\n",
       "==============================================================================\n",
       "\"\"\""
      ]
     },
     "execution_count": 137,
     "metadata": {},
     "output_type": "execute_result"
    }
   ],
   "source": [
    "# calculate the p-values using statsmodels\n",
    "logit_model = sm.Logit(y_test,X_test).fit()\n",
    "\n",
    "#result=logit_model.fit()\n",
    "logit_model.summary()"
   ]
  },
  {
   "cell_type": "markdown",
   "id": "4c049000",
   "metadata": {},
   "source": [
    "Only 2 vectors are significant at p < .05 but the p-val of the overall model is good. R2 is very low. Now we'll significantly reduce the parameters in the model and try again."
   ]
  },
  {
   "cell_type": "markdown",
   "id": "03bb3855",
   "metadata": {},
   "source": [
    "## LogReg Attempt 3"
   ]
  },
  {
   "cell_type": "code",
   "execution_count": 105,
   "id": "ffcf39bb",
   "metadata": {},
   "outputs": [],
   "source": [
    "model_small = model_df[[\"Project Length\",\"Capacity (MW)\",\"storage\",\"Status\"]]"
   ]
  },
  {
   "cell_type": "code",
   "execution_count": 106,
   "id": "e1c7b389",
   "metadata": {},
   "outputs": [],
   "source": [
    "#Split the active projects from the completed/withdraawn projects to first analyze the completed/withdrawn projects\n",
    "\n",
    "active3 = model_small[model_small[\"Status\"] == \"ACTIVE\"]\n",
    "inactive3 = model_small[model_small[\"Status\"] != \"ACTIVE\"]"
   ]
  },
  {
   "cell_type": "code",
   "execution_count": 107,
   "id": "456b132b",
   "metadata": {},
   "outputs": [],
   "source": [
    "#Create X and y for model\n",
    "X = inactive3.drop(columns=\"Status\").astype('float64')\n",
    "y = pd.get_dummies(inactive3[\"Status\"]).drop(columns='WITHDRAWN').rename(columns={'COMPLETED':'Status'}).astype('float64')\n",
    "\n",
    "#Split data for models\n",
    "X_train, X_test, y_train, y_test = train_test_split(X, y, test_size = 0.4, random_state = 42)"
   ]
  },
  {
   "cell_type": "code",
   "execution_count": 108,
   "id": "bd1a734a",
   "metadata": {},
   "outputs": [
    {
     "data": {
      "text/plain": [
       "0.8997214484679665"
      ]
     },
     "execution_count": 108,
     "metadata": {},
     "output_type": "execute_result"
    }
   ],
   "source": [
    "#Normalize data because we incorporate categorical and numerical variables, all measured differently\n",
    "scaler = StandardScaler()\n",
    "X_train = scaler.fit_transform(X_train)\n",
    "X_test = scaler.transform(X_test)\n",
    "\n",
    "#Create and fit logistic regression model\n",
    "model = LogisticRegression() #penalty='l2'\n",
    "model.fit(X_train, y_train.values.ravel())\n",
    "\n",
    "#Make predictions on test set\n",
    "predictions = model.predict(X_test)\n",
    "\n",
    "#Evaluate model performance\n",
    "accuracy = model.score(X_test, y_test)\n",
    "accuracy"
   ]
  },
  {
   "cell_type": "code",
   "execution_count": 109,
   "id": "fcae5a88",
   "metadata": {},
   "outputs": [],
   "source": [
    "#To get p values:\n",
    "\n",
    "# add a column of ones for the intercept in X_test\n",
    "X_test = sm.add_constant(X_test) #but now we're saying this doesn't work\n",
    "\n",
    "# predict the probabilities of y_test using X_test and logreg\n",
    "#y_pred = model.predict_proba(X_test)[:,1]\n",
    "\n",
    "coef = model.coef_\n",
    "intercept = model.intercept_"
   ]
  },
  {
   "cell_type": "code",
   "execution_count": 110,
   "id": "9c751905",
   "metadata": {},
   "outputs": [
    {
     "name": "stderr",
     "output_type": "stream",
     "text": [
      "/Users/larsenburack/opt/anaconda3/lib/python3.9/site-packages/sklearn/base.py:443: UserWarning: X has feature names, but LogisticRegression was fitted without feature names\n",
      "  warnings.warn(\n"
     ]
    },
    {
     "data": {
      "text/plain": [
       "0.11148272017837235"
      ]
     },
     "execution_count": 110,
     "metadata": {},
     "output_type": "execute_result"
    }
   ],
   "source": [
    "#Not very good\n",
    "\n",
    "model.score(X,y)"
   ]
  },
  {
   "cell_type": "code",
   "execution_count": 92,
   "id": "2cebc3af",
   "metadata": {},
   "outputs": [
    {
     "name": "stderr",
     "output_type": "stream",
     "text": [
      "/Users/larsenburack/opt/anaconda3/lib/python3.9/site-packages/sklearn/base.py:443: UserWarning: X has feature names, but LogisticRegression was fitted without feature names\n",
      "  warnings.warn(\n"
     ]
    },
    {
     "data": {
      "text/html": [
       "<div>\n",
       "<style scoped>\n",
       "    .dataframe tbody tr th:only-of-type {\n",
       "        vertical-align: middle;\n",
       "    }\n",
       "\n",
       "    .dataframe tbody tr th {\n",
       "        vertical-align: top;\n",
       "    }\n",
       "\n",
       "    .dataframe thead th {\n",
       "        text-align: right;\n",
       "    }\n",
       "</style>\n",
       "<table border=\"1\" class=\"dataframe\">\n",
       "  <thead>\n",
       "    <tr style=\"text-align: right;\">\n",
       "      <th></th>\n",
       "      <th>feature</th>\n",
       "      <th>coefficient</th>\n",
       "    </tr>\n",
       "  </thead>\n",
       "  <tbody>\n",
       "    <tr>\n",
       "      <th>0</th>\n",
       "      <td>Project Length</td>\n",
       "      <td>0.706399</td>\n",
       "    </tr>\n",
       "    <tr>\n",
       "      <th>1</th>\n",
       "      <td>Capacity (MW)</td>\n",
       "      <td>-0.810509</td>\n",
       "    </tr>\n",
       "    <tr>\n",
       "      <th>2</th>\n",
       "      <td>storage</td>\n",
       "      <td>-0.946539</td>\n",
       "    </tr>\n",
       "  </tbody>\n",
       "</table>\n",
       "</div>"
      ],
      "text/plain": [
       "          feature  coefficient\n",
       "0  Project Length     0.706399\n",
       "1   Capacity (MW)    -0.810509\n",
       "2         storage    -0.946539"
      ]
     },
     "execution_count": 92,
     "metadata": {},
     "output_type": "execute_result"
    }
   ],
   "source": [
    "#for this to be interpretable\n",
    "# create a dataframe of the feature names and coefficients. \n",
    "\n",
    "feature_names = list(inactive3.drop(columns='Status',axis=1).columns)\n",
    "coef_df = pd.DataFrame({\"feature\": feature_names, \"coefficient\": coef[0]})\n",
    "coef_df.sort_values('coefficient', ascending=False)"
   ]
  },
  {
   "cell_type": "code",
   "execution_count": 103,
   "id": "a17a97f6",
   "metadata": {},
   "outputs": [
    {
     "data": {
      "image/png": "[encoded data removed]",
      "text/plain": [
       "<Figure size 640x480 with 1 Axes>"
      ]
     },
     "metadata": {},
     "output_type": "display_data"
    }
   ],
   "source": [
    "#These are the projects that have over 50% probability of being completed according to the model. \n",
    "#Let's join this with the original df.\n",
    "\n",
    "predictions_df = pd.DataFrame(y_pred)\n",
    "#y_pred[y_pred[0] > .3]\n",
    "plt.hist(predictions_df,bins=10)\n",
    "plt.show()"
   ]
  },
  {
   "cell_type": "code",
   "execution_count": 104,
   "id": "e1c50a78",
   "metadata": {},
   "outputs": [
    {
     "name": "stdout",
     "output_type": "stream",
     "text": [
      "Optimization terminated successfully.\n",
      "         Current function value: 0.269949\n",
      "         Iterations 8\n"
     ]
    },
    {
     "data": {
      "text/html": [
       "<table class=\"simpletable\">\n",
       "<caption>Logit Regression Results</caption>\n",
       "<tr>\n",
       "  <th>Dep. Variable:</th>        <td>Status</td>      <th>  No. Observations:  </th>  <td>   718</td>  \n",
       "</tr>\n",
       "<tr>\n",
       "  <th>Model:</th>                 <td>Logit</td>      <th>  Df Residuals:      </th>  <td>   714</td>  \n",
       "</tr>\n",
       "<tr>\n",
       "  <th>Method:</th>                 <td>MLE</td>       <th>  Df Model:          </th>  <td>     3</td>  \n",
       "</tr>\n",
       "<tr>\n",
       "  <th>Date:</th>            <td>Sun, 16 Apr 2023</td> <th>  Pseudo R-squ.:     </th>  <td>0.1296</td>  \n",
       "</tr>\n",
       "<tr>\n",
       "  <th>Time:</th>                <td>13:04:42</td>     <th>  Log-Likelihood:    </th> <td> -193.82</td> \n",
       "</tr>\n",
       "<tr>\n",
       "  <th>converged:</th>             <td>True</td>       <th>  LL-Null:           </th> <td> -222.68</td> \n",
       "</tr>\n",
       "<tr>\n",
       "  <th>Covariance Type:</th>     <td>nonrobust</td>    <th>  LLR p-value:       </th> <td>1.809e-12</td>\n",
       "</tr>\n",
       "</table>\n",
       "<table class=\"simpletable\">\n",
       "<tr>\n",
       "    <td></td>       <th>coef</th>     <th>std err</th>      <th>z</th>      <th>P>|z|</th>  <th>[0.025</th>    <th>0.975]</th>  \n",
       "</tr>\n",
       "<tr>\n",
       "  <th>const</th> <td>   -2.6478</td> <td>    0.178</td> <td>  -14.866</td> <td> 0.000</td> <td>   -2.997</td> <td>   -2.299</td>\n",
       "</tr>\n",
       "<tr>\n",
       "  <th>x1</th>    <td>    0.7788</td> <td>    0.134</td> <td>    5.805</td> <td> 0.000</td> <td>    0.516</td> <td>    1.042</td>\n",
       "</tr>\n",
       "<tr>\n",
       "  <th>x2</th>    <td>   -1.1445</td> <td>    0.292</td> <td>   -3.919</td> <td> 0.000</td> <td>   -1.717</td> <td>   -0.572</td>\n",
       "</tr>\n",
       "<tr>\n",
       "  <th>x3</th>    <td>   -0.3925</td> <td>    0.171</td> <td>   -2.292</td> <td> 0.022</td> <td>   -0.728</td> <td>   -0.057</td>\n",
       "</tr>\n",
       "</table>"
      ],
      "text/plain": [
       "<class 'statsmodels.iolib.summary.Summary'>\n",
       "\"\"\"\n",
       "                           Logit Regression Results                           \n",
       "==============================================================================\n",
       "Dep. Variable:                 Status   No. Observations:                  718\n",
       "Model:                          Logit   Df Residuals:                      714\n",
       "Method:                           MLE   Df Model:                            3\n",
       "Date:                Sun, 16 Apr 2023   Pseudo R-squ.:                  0.1296\n",
       "Time:                        13:04:42   Log-Likelihood:                -193.82\n",
       "converged:                       True   LL-Null:                       -222.68\n",
       "Covariance Type:            nonrobust   LLR p-value:                 1.809e-12\n",
       "==============================================================================\n",
       "                 coef    std err          z      P>|z|      [0.025      0.975]\n",
       "------------------------------------------------------------------------------\n",
       "const         -2.6478      0.178    -14.866      0.000      -2.997      -2.299\n",
       "x1             0.7788      0.134      5.805      0.000       0.516       1.042\n",
       "x2            -1.1445      0.292     -3.919      0.000      -1.717      -0.572\n",
       "x3            -0.3925      0.171     -2.292      0.022      -0.728      -0.057\n",
       "==============================================================================\n",
       "\"\"\""
      ]
     },
     "execution_count": 104,
     "metadata": {},
     "output_type": "execute_result"
    }
   ],
   "source": [
    "# calculate the p-values using statsmodels\n",
    "logit_model = sm.Logit(y_test,X_test).fit()\n",
    "\n",
    "#result=logit_model.fit()\n",
    "logit_model.summary()"
   ]
  },
  {
   "cell_type": "markdown",
   "id": "0ff5e23b",
   "metadata": {},
   "source": [
    "Only project length and capacity are statistically significant at p < .05 and the p value of the model as a whole is awful (1). If we add a constant to test data set, all predictors are significant and result is significant. However, the R2 with 3 parameters is worse (.12) than with 16 (.15)."
   ]
  },
  {
   "cell_type": "code",
   "execution_count": 139,
   "id": "66aa85fe",
   "metadata": {},
   "outputs": [],
   "source": [
    "probabilities = logit_model.predict(X_test)"
   ]
  },
  {
   "cell_type": "code",
   "execution_count": 143,
   "id": "0c52ebbd",
   "metadata": {
    "scrolled": true
   },
   "outputs": [
    {
     "data": {
      "image/png": "[encoded data removed]",
      "text/plain": [
       "<Figure size 640x480 with 1 Axes>"
      ]
     },
     "metadata": {},
     "output_type": "display_data"
    }
   ],
   "source": [
    "plt.hist(probabilities,bins=10)\n",
    "plt.show()"
   ]
  },
  {
   "cell_type": "markdown",
   "id": "93377284",
   "metadata": {},
   "source": [
    "## LogReg Attempt 4"
   ]
  },
  {
   "cell_type": "code",
   "execution_count": 157,
   "id": "423d3d60",
   "metadata": {},
   "outputs": [],
   "source": [
    "model_df['renewable'] = (model_df[\"thermal\"]==1) | (model_df[\"wind\"]==1) | (model_df[\"photovoltaic\"]==1) | (model_df[\"hydro\"]==1)"
   ]
  },
  {
   "cell_type": "code",
   "execution_count": 158,
   "id": "4bc35822",
   "metadata": {},
   "outputs": [
    {
     "name": "stdout",
     "output_type": "stream",
     "text": [
      "<class 'pandas.core.frame.DataFrame'>\n",
      "Int64Index: 2258 entries, 4253 to 6530\n",
      "Data columns (total 18 columns):\n",
      " #   Column          Non-Null Count  Dtype  \n",
      "---  ------          --------------  -----  \n",
      " 0   Capacity (MW)   2258 non-null   float64\n",
      " 1   Status          2258 non-null   object \n",
      " 2   Project Length  2258 non-null   int64  \n",
      " 3   cogeneration    2258 non-null   bool   \n",
      " 4   combustion      2258 non-null   bool   \n",
      " 5   thermal         2258 non-null   bool   \n",
      " 6   reciprocating   2258 non-null   bool   \n",
      " 7   storage         2258 non-null   bool   \n",
      " 8   photovoltaic    2258 non-null   bool   \n",
      " 9   hydro           2258 non-null   bool   \n",
      " 10  wind            2258 non-null   bool   \n",
      " 11  gas             2258 non-null   bool   \n",
      " 12  cycle           2258 non-null   bool   \n",
      " 13  steam           2258 non-null   bool   \n",
      " 14  Line            2258 non-null   bool   \n",
      " 15  Bus             2258 non-null   bool   \n",
      " 16  Substation      2258 non-null   bool   \n",
      " 17  renewable       2258 non-null   bool   \n",
      "dtypes: bool(15), float64(1), int64(1), object(1)\n",
      "memory usage: 103.6+ KB\n"
     ]
    }
   ],
   "source": [
    "model_df.info()"
   ]
  },
  {
   "cell_type": "code",
   "execution_count": 175,
   "id": "d784f602",
   "metadata": {},
   "outputs": [],
   "source": [
    "model_med = model_df[[\"Capacity (MW)\",\"Project Length\",\"storage\",\"renewable\",\"Status\"]]"
   ]
  },
  {
   "cell_type": "code",
   "execution_count": 176,
   "id": "7aab21d9",
   "metadata": {},
   "outputs": [],
   "source": [
    "#Split the active projects from the completed/withdraawn projects to first analyze the completed/withdrawn projects\n",
    "\n",
    "active4 = model_med[model_small[\"Status\"] == \"ACTIVE\"]\n",
    "inactive4 = model_med[model_small[\"Status\"] != \"ACTIVE\"]\n",
    "\n",
    "#Create X and y for model\n",
    "X = inactive4.drop(columns=\"Status\").astype('float64')\n",
    "y = pd.get_dummies(inactive4[\"Status\"]).drop(columns='WITHDRAWN').rename(columns={'COMPLETED':'Status'}).astype('float64')\n",
    "\n",
    "#Split data for models\n",
    "X_train, X_test, y_train, y_test = train_test_split(X, y, test_size = 0.4, random_state = 42)"
   ]
  },
  {
   "cell_type": "code",
   "execution_count": 177,
   "id": "c558df84",
   "metadata": {},
   "outputs": [
    {
     "data": {
      "text/plain": [
       "0.8983286908077994"
      ]
     },
     "execution_count": 177,
     "metadata": {},
     "output_type": "execute_result"
    }
   ],
   "source": [
    "#Normalize data because we incorporate categorical and numerical variables, all measured differently\n",
    "scaler = StandardScaler()\n",
    "X_train = scaler.fit_transform(X_train)\n",
    "X_test = scaler.transform(X_test)\n",
    "\n",
    "#Create and fit logistic regression model\n",
    "model = LogisticRegression() #penalty='l2'\n",
    "model.fit(X_train, y_train.values.ravel())\n",
    "\n",
    "#Make predictions on test set\n",
    "predictions = model.predict(X_test)\n",
    "\n",
    "#Evaluate model performance\n",
    "accuracy = model.score(X_test, y_test)\n",
    "accuracy"
   ]
  },
  {
   "cell_type": "code",
   "execution_count": 178,
   "id": "ed25c903",
   "metadata": {},
   "outputs": [
    {
     "name": "stderr",
     "output_type": "stream",
     "text": [
      "/Users/larsenburack/opt/anaconda3/lib/python3.9/site-packages/sklearn/base.py:443: UserWarning: X has feature names, but LogisticRegression was fitted without feature names\n",
      "  warnings.warn(\n"
     ]
    },
    {
     "data": {
      "text/plain": [
       "0.11259754738015608"
      ]
     },
     "execution_count": 178,
     "metadata": {},
     "output_type": "execute_result"
    }
   ],
   "source": [
    "#To get p values:\n",
    "\n",
    "# add a column of ones for the intercept in X_test\n",
    "X_test = sm.add_constant(X_test) #but now we're saying this doesn't work\n",
    "\n",
    "# predict the probabilities of y_test using X_test and logreg\n",
    "#y_pred = model.predict_proba(X_test)[:,1]\n",
    "\n",
    "coef = model.coef_\n",
    "intercept = model.intercept_\n",
    "\n",
    "#Not very good\n",
    "\n",
    "model.score(X,y)"
   ]
  },
  {
   "cell_type": "code",
   "execution_count": 179,
   "id": "0dd80653",
   "metadata": {},
   "outputs": [
    {
     "data": {
      "text/html": [
       "<div>\n",
       "<style scoped>\n",
       "    .dataframe tbody tr th:only-of-type {\n",
       "        vertical-align: middle;\n",
       "    }\n",
       "\n",
       "    .dataframe tbody tr th {\n",
       "        vertical-align: top;\n",
       "    }\n",
       "\n",
       "    .dataframe thead th {\n",
       "        text-align: right;\n",
       "    }\n",
       "</style>\n",
       "<table border=\"1\" class=\"dataframe\">\n",
       "  <thead>\n",
       "    <tr style=\"text-align: right;\">\n",
       "      <th></th>\n",
       "      <th>feature</th>\n",
       "      <th>coefficient</th>\n",
       "    </tr>\n",
       "  </thead>\n",
       "  <tbody>\n",
       "    <tr>\n",
       "      <th>1</th>\n",
       "      <td>Project Length</td>\n",
       "      <td>0.727184</td>\n",
       "    </tr>\n",
       "    <tr>\n",
       "      <th>3</th>\n",
       "      <td>renewable</td>\n",
       "      <td>-0.318346</td>\n",
       "    </tr>\n",
       "    <tr>\n",
       "      <th>0</th>\n",
       "      <td>Capacity (MW)</td>\n",
       "      <td>-0.949112</td>\n",
       "    </tr>\n",
       "    <tr>\n",
       "      <th>2</th>\n",
       "      <td>storage</td>\n",
       "      <td>-1.016350</td>\n",
       "    </tr>\n",
       "  </tbody>\n",
       "</table>\n",
       "</div>"
      ],
      "text/plain": [
       "          feature  coefficient\n",
       "1  Project Length     0.727184\n",
       "3       renewable    -0.318346\n",
       "0   Capacity (MW)    -0.949112\n",
       "2         storage    -1.016350"
      ]
     },
     "execution_count": 179,
     "metadata": {},
     "output_type": "execute_result"
    }
   ],
   "source": [
    "#for this to be interpretable\n",
    "# create a dataframe of the feature names and coefficients. \n",
    "\n",
    "feature_names = list(inactive4.drop(columns='Status',axis=1).columns)\n",
    "coef_df = pd.DataFrame({\"feature\": feature_names, \"coefficient\": coef[0]})\n",
    "coef_df.sort_values('coefficient', ascending=False)"
   ]
  },
  {
   "cell_type": "code",
   "execution_count": 180,
   "id": "2c3990d9",
   "metadata": {},
   "outputs": [
    {
     "data": {
      "image/png": "[encoded data removed]",
      "text/plain": [
       "<Figure size 640x480 with 1 Axes>"
      ]
     },
     "metadata": {},
     "output_type": "display_data"
    }
   ],
   "source": [
    "#These are the projects that have over 50% probability of being completed according to the model. \n",
    "#Let's join this with the original df.\n",
    "\n",
    "predictions_df = pd.DataFrame(y_pred)\n",
    "#y_pred[y_pred[0] > .3]\n",
    "plt.hist(predictions_df,bins=10)\n",
    "plt.show()"
   ]
  },
  {
   "cell_type": "code",
   "execution_count": 181,
   "id": "69545581",
   "metadata": {},
   "outputs": [
    {
     "name": "stdout",
     "output_type": "stream",
     "text": [
      "Optimization terminated successfully.\n",
      "         Current function value: 0.269814\n",
      "         Iterations 8\n"
     ]
    },
    {
     "data": {
      "text/html": [
       "<table class=\"simpletable\">\n",
       "<caption>Logit Regression Results</caption>\n",
       "<tr>\n",
       "  <th>Dep. Variable:</th>        <td>Status</td>      <th>  No. Observations:  </th>  <td>   718</td>  \n",
       "</tr>\n",
       "<tr>\n",
       "  <th>Model:</th>                 <td>Logit</td>      <th>  Df Residuals:      </th>  <td>   713</td>  \n",
       "</tr>\n",
       "<tr>\n",
       "  <th>Method:</th>                 <td>MLE</td>       <th>  Df Model:          </th>  <td>     4</td>  \n",
       "</tr>\n",
       "<tr>\n",
       "  <th>Date:</th>            <td>Sun, 16 Apr 2023</td> <th>  Pseudo R-squ.:     </th>  <td>0.1300</td>  \n",
       "</tr>\n",
       "<tr>\n",
       "  <th>Time:</th>                <td>14:00:37</td>     <th>  Log-Likelihood:    </th> <td> -193.73</td> \n",
       "</tr>\n",
       "<tr>\n",
       "  <th>converged:</th>             <td>True</td>       <th>  LL-Null:           </th> <td> -222.68</td> \n",
       "</tr>\n",
       "<tr>\n",
       "  <th>Covariance Type:</th>     <td>nonrobust</td>    <th>  LLR p-value:       </th> <td>7.972e-12</td>\n",
       "</tr>\n",
       "</table>\n",
       "<table class=\"simpletable\">\n",
       "<tr>\n",
       "    <td></td>       <th>coef</th>     <th>std err</th>      <th>z</th>      <th>P>|z|</th>  <th>[0.025</th>    <th>0.975]</th>  \n",
       "</tr>\n",
       "<tr>\n",
       "  <th>const</th> <td>   -2.6457</td> <td>    0.178</td> <td>  -14.869</td> <td> 0.000</td> <td>   -2.994</td> <td>   -2.297</td>\n",
       "</tr>\n",
       "<tr>\n",
       "  <th>x1</th>    <td>   -1.1237</td> <td>    0.295</td> <td>   -3.806</td> <td> 0.000</td> <td>   -1.702</td> <td>   -0.545</td>\n",
       "</tr>\n",
       "<tr>\n",
       "  <th>x2</th>    <td>    0.7778</td> <td>    0.134</td> <td>    5.792</td> <td> 0.000</td> <td>    0.515</td> <td>    1.041</td>\n",
       "</tr>\n",
       "<tr>\n",
       "  <th>x3</th>    <td>   -0.3708</td> <td>    0.178</td> <td>   -2.082</td> <td> 0.037</td> <td>   -0.720</td> <td>   -0.022</td>\n",
       "</tr>\n",
       "<tr>\n",
       "  <th>x4</th>    <td>    0.0677</td> <td>    0.154</td> <td>    0.439</td> <td> 0.660</td> <td>   -0.234</td> <td>    0.369</td>\n",
       "</tr>\n",
       "</table>"
      ],
      "text/plain": [
       "<class 'statsmodels.iolib.summary.Summary'>\n",
       "\"\"\"\n",
       "                           Logit Regression Results                           \n",
       "==============================================================================\n",
       "Dep. Variable:                 Status   No. Observations:                  718\n",
       "Model:                          Logit   Df Residuals:                      713\n",
       "Method:                           MLE   Df Model:                            4\n",
       "Date:                Sun, 16 Apr 2023   Pseudo R-squ.:                  0.1300\n",
       "Time:                        14:00:37   Log-Likelihood:                -193.73\n",
       "converged:                       True   LL-Null:                       -222.68\n",
       "Covariance Type:            nonrobust   LLR p-value:                 7.972e-12\n",
       "==============================================================================\n",
       "                 coef    std err          z      P>|z|      [0.025      0.975]\n",
       "------------------------------------------------------------------------------\n",
       "const         -2.6457      0.178    -14.869      0.000      -2.994      -2.297\n",
       "x1            -1.1237      0.295     -3.806      0.000      -1.702      -0.545\n",
       "x2             0.7778      0.134      5.792      0.000       0.515       1.041\n",
       "x3            -0.3708      0.178     -2.082      0.037      -0.720      -0.022\n",
       "x4             0.0677      0.154      0.439      0.660      -0.234       0.369\n",
       "==============================================================================\n",
       "\"\"\""
      ]
     },
     "execution_count": 181,
     "metadata": {},
     "output_type": "execute_result"
    }
   ],
   "source": [
    "# calculate the p-values using statsmodels\n",
    "logit_model = sm.Logit(y_test,X_test).fit()\n",
    "\n",
    "#result=logit_model.fit()\n",
    "logit_model.summary()"
   ]
  },
  {
   "cell_type": "markdown",
   "id": "e3897c4c",
   "metadata": {},
   "source": [
    "This combination of predictors doesn't help the model much either"
   ]
  },
  {
   "cell_type": "code",
   "execution_count": 182,
   "id": "d0a52c77",
   "metadata": {},
   "outputs": [
    {
     "data": {
      "image/png": "[encoded data removed]",
      "text/plain": [
       "<Figure size 640x480 with 1 Axes>"
      ]
     },
     "metadata": {},
     "output_type": "display_data"
    }
   ],
   "source": [
    "probabilities = logit_model.predict(X_test)\n",
    "\n",
    "plt.hist(probabilities,bins=10)\n",
    "plt.show()"
   ]
  },
  {
   "cell_type": "markdown",
   "id": "cc6b8e47",
   "metadata": {},
   "source": [
    "## LogReg Attempt 5 with just statsmodels split, fit methods"
   ]
  },
  {
   "cell_type": "code",
   "execution_count": 249,
   "id": "31c8cca3",
   "metadata": {},
   "outputs": [],
   "source": [
    "X = inactive4.drop(columns=\"Status\").astype('float64')\n",
    "y = pd.get_dummies(inactive4[\"Status\"]).drop(columns='WITHDRAWN').rename(columns={'COMPLETED':'Status'}).astype('float64')"
   ]
  },
  {
   "cell_type": "code",
   "execution_count": 250,
   "id": "e8579fce",
   "metadata": {},
   "outputs": [],
   "source": [
    "X_train, X_test, y_train, y_test = train_test_split(X,y, test_size=0.3, random_state=42)"
   ]
  },
  {
   "cell_type": "code",
   "execution_count": 251,
   "id": "cf99ccaa",
   "metadata": {},
   "outputs": [
    {
     "data": {
      "text/html": [
       "<div>\n",
       "<style scoped>\n",
       "    .dataframe tbody tr th:only-of-type {\n",
       "        vertical-align: middle;\n",
       "    }\n",
       "\n",
       "    .dataframe tbody tr th {\n",
       "        vertical-align: top;\n",
       "    }\n",
       "\n",
       "    .dataframe thead th {\n",
       "        text-align: right;\n",
       "    }\n",
       "</style>\n",
       "<table border=\"1\" class=\"dataframe\">\n",
       "  <thead>\n",
       "    <tr style=\"text-align: right;\">\n",
       "      <th></th>\n",
       "      <th>Capacity (MW)</th>\n",
       "      <th>Project Length</th>\n",
       "      <th>storage</th>\n",
       "      <th>renewable</th>\n",
       "    </tr>\n",
       "  </thead>\n",
       "  <tbody>\n",
       "    <tr>\n",
       "      <th>5250</th>\n",
       "      <td>14.000</td>\n",
       "      <td>2556.0</td>\n",
       "      <td>0.0</td>\n",
       "      <td>1.0</td>\n",
       "    </tr>\n",
       "    <tr>\n",
       "      <th>5241</th>\n",
       "      <td>450.000</td>\n",
       "      <td>1676.0</td>\n",
       "      <td>0.0</td>\n",
       "      <td>0.0</td>\n",
       "    </tr>\n",
       "    <tr>\n",
       "      <th>4799</th>\n",
       "      <td>20.000</td>\n",
       "      <td>2239.0</td>\n",
       "      <td>0.0</td>\n",
       "      <td>1.0</td>\n",
       "    </tr>\n",
       "    <tr>\n",
       "      <th>5324</th>\n",
       "      <td>92.600</td>\n",
       "      <td>1249.0</td>\n",
       "      <td>0.0</td>\n",
       "      <td>0.0</td>\n",
       "    </tr>\n",
       "    <tr>\n",
       "      <th>5108</th>\n",
       "      <td>600.000</td>\n",
       "      <td>3572.0</td>\n",
       "      <td>0.0</td>\n",
       "      <td>0.0</td>\n",
       "    </tr>\n",
       "    <tr>\n",
       "      <th>...</th>\n",
       "      <td>...</td>\n",
       "      <td>...</td>\n",
       "      <td>...</td>\n",
       "      <td>...</td>\n",
       "    </tr>\n",
       "    <tr>\n",
       "      <th>5866</th>\n",
       "      <td>50.000</td>\n",
       "      <td>2954.0</td>\n",
       "      <td>1.0</td>\n",
       "      <td>0.0</td>\n",
       "    </tr>\n",
       "    <tr>\n",
       "      <th>6031</th>\n",
       "      <td>306.870</td>\n",
       "      <td>2069.0</td>\n",
       "      <td>0.0</td>\n",
       "      <td>1.0</td>\n",
       "    </tr>\n",
       "    <tr>\n",
       "      <th>5589</th>\n",
       "      <td>20.000</td>\n",
       "      <td>1006.0</td>\n",
       "      <td>0.0</td>\n",
       "      <td>1.0</td>\n",
       "    </tr>\n",
       "    <tr>\n",
       "      <th>6196</th>\n",
       "      <td>117.405</td>\n",
       "      <td>980.0</td>\n",
       "      <td>0.0</td>\n",
       "      <td>1.0</td>\n",
       "    </tr>\n",
       "    <tr>\n",
       "      <th>5862</th>\n",
       "      <td>250.000</td>\n",
       "      <td>1676.0</td>\n",
       "      <td>0.0</td>\n",
       "      <td>1.0</td>\n",
       "    </tr>\n",
       "  </tbody>\n",
       "</table>\n",
       "<p>1255 rows × 4 columns</p>\n",
       "</div>"
      ],
      "text/plain": [
       "      Capacity (MW)  Project Length  storage  renewable\n",
       "5250         14.000          2556.0      0.0        1.0\n",
       "5241        450.000          1676.0      0.0        0.0\n",
       "4799         20.000          2239.0      0.0        1.0\n",
       "5324         92.600          1249.0      0.0        0.0\n",
       "5108        600.000          3572.0      0.0        0.0\n",
       "...             ...             ...      ...        ...\n",
       "5866         50.000          2954.0      1.0        0.0\n",
       "6031        306.870          2069.0      0.0        1.0\n",
       "5589         20.000          1006.0      0.0        1.0\n",
       "6196        117.405           980.0      0.0        1.0\n",
       "5862        250.000          1676.0      0.0        1.0\n",
       "\n",
       "[1255 rows x 4 columns]"
      ]
     },
     "execution_count": 251,
     "metadata": {},
     "output_type": "execute_result"
    }
   ],
   "source": [
    "X_train"
   ]
  },
  {
   "cell_type": "code",
   "execution_count": 252,
   "id": "a0db8657",
   "metadata": {},
   "outputs": [
    {
     "name": "stdout",
     "output_type": "stream",
     "text": [
      "Optimization terminated successfully.\n",
      "         Current function value: 0.305899\n",
      "         Iterations 8\n"
     ]
    },
    {
     "data": {
      "text/html": [
       "<table class=\"simpletable\">\n",
       "<caption>Logit Regression Results</caption>\n",
       "<tr>\n",
       "  <th>Dep. Variable:</th>           <td>y</td>        <th>  No. Observations:  </th>  <td>  1255</td>  \n",
       "</tr>\n",
       "<tr>\n",
       "  <th>Model:</th>                 <td>Logit</td>      <th>  Df Residuals:      </th>  <td>  1250</td>  \n",
       "</tr>\n",
       "<tr>\n",
       "  <th>Method:</th>                 <td>MLE</td>       <th>  Df Model:          </th>  <td>     4</td>  \n",
       "</tr>\n",
       "<tr>\n",
       "  <th>Date:</th>            <td>Sun, 16 Apr 2023</td> <th>  Pseudo R-squ.:     </th>  <td>0.1568</td>  \n",
       "</tr>\n",
       "<tr>\n",
       "  <th>Time:</th>                <td>15:27:24</td>     <th>  Log-Likelihood:    </th> <td> -383.90</td> \n",
       "</tr>\n",
       "<tr>\n",
       "  <th>converged:</th>             <td>True</td>       <th>  LL-Null:           </th> <td> -455.28</td> \n",
       "</tr>\n",
       "<tr>\n",
       "  <th>Covariance Type:</th>     <td>nonrobust</td>    <th>  LLR p-value:       </th> <td>7.228e-30</td>\n",
       "</tr>\n",
       "</table>\n",
       "<table class=\"simpletable\">\n",
       "<tr>\n",
       "    <td></td>       <th>coef</th>     <th>std err</th>      <th>z</th>      <th>P>|z|</th>  <th>[0.025</th>    <th>0.975]</th>  \n",
       "</tr>\n",
       "<tr>\n",
       "  <th>const</th> <td>   -2.2488</td> <td>    0.243</td> <td>   -9.243</td> <td> 0.000</td> <td>   -2.726</td> <td>   -1.772</td>\n",
       "</tr>\n",
       "<tr>\n",
       "  <th>x1</th>    <td>   -0.0039</td> <td>    0.001</td> <td>   -5.729</td> <td> 0.000</td> <td>   -0.005</td> <td>   -0.003</td>\n",
       "</tr>\n",
       "<tr>\n",
       "  <th>x2</th>    <td>    0.0009</td> <td>    0.000</td> <td>    8.555</td> <td> 0.000</td> <td>    0.001</td> <td>    0.001</td>\n",
       "</tr>\n",
       "<tr>\n",
       "  <th>x3</th>    <td>   -1.9435</td> <td>    0.338</td> <td>   -5.743</td> <td> 0.000</td> <td>   -2.607</td> <td>   -1.280</td>\n",
       "</tr>\n",
       "<tr>\n",
       "  <th>x4</th>    <td>   -0.6145</td> <td>    0.208</td> <td>   -2.959</td> <td> 0.003</td> <td>   -1.021</td> <td>   -0.208</td>\n",
       "</tr>\n",
       "</table>"
      ],
      "text/plain": [
       "<class 'statsmodels.iolib.summary.Summary'>\n",
       "\"\"\"\n",
       "                           Logit Regression Results                           \n",
       "==============================================================================\n",
       "Dep. Variable:                      y   No. Observations:                 1255\n",
       "Model:                          Logit   Df Residuals:                     1250\n",
       "Method:                           MLE   Df Model:                            4\n",
       "Date:                Sun, 16 Apr 2023   Pseudo R-squ.:                  0.1568\n",
       "Time:                        15:27:24   Log-Likelihood:                -383.90\n",
       "converged:                       True   LL-Null:                       -455.28\n",
       "Covariance Type:            nonrobust   LLR p-value:                 7.228e-30\n",
       "==============================================================================\n",
       "                 coef    std err          z      P>|z|      [0.025      0.975]\n",
       "------------------------------------------------------------------------------\n",
       "const         -2.2488      0.243     -9.243      0.000      -2.726      -1.772\n",
       "x1            -0.0039      0.001     -5.729      0.000      -0.005      -0.003\n",
       "x2             0.0009      0.000      8.555      0.000       0.001       0.001\n",
       "x3            -1.9435      0.338     -5.743      0.000      -2.607      -1.280\n",
       "x4            -0.6145      0.208     -2.959      0.003      -1.021      -0.208\n",
       "==============================================================================\n",
       "\"\"\""
      ]
     },
     "execution_count": 252,
     "metadata": {},
     "output_type": "execute_result"
    }
   ],
   "source": [
    "logit_model = sm.Logit(np.asarray(y_train), sm.add_constant(np.asarray(X_train))).fit()\n",
    "logit_model.summary()"
   ]
  },
  {
   "cell_type": "code",
   "execution_count": 253,
   "id": "4ca1e223",
   "metadata": {},
   "outputs": [],
   "source": [
    "y_pred = logit_model.predict(sm.add_constant(X_test))"
   ]
  },
  {
   "cell_type": "code",
   "execution_count": 254,
   "id": "5bc90c17",
   "metadata": {},
   "outputs": [
    {
     "data": {
      "image/png": "[encoded data removed]",
      "text/plain": [
       "<Figure size 640x480 with 1 Axes>"
      ]
     },
     "metadata": {},
     "output_type": "display_data"
    }
   ],
   "source": [
    "plt.hist(y_pred,bins=10)\n",
    "plt.show()"
   ]
  },
  {
   "cell_type": "markdown",
   "id": "0320a026",
   "metadata": {},
   "source": [
    "## LogReg Attempt 6 (Training with inactive and testing with active)"
   ]
  },
  {
   "cell_type": "code",
   "execution_count": 234,
   "id": "5811f5f2",
   "metadata": {},
   "outputs": [],
   "source": [
    "X_train = inactive4.drop(columns=\"Status\").astype('float64')\n",
    "y_train = pd.get_dummies(inactive4[\"Status\"]).drop(columns='WITHDRAWN').rename(columns={'COMPLETED':'Status'}).astype('float64')"
   ]
  },
  {
   "cell_type": "code",
   "execution_count": 235,
   "id": "fef5dfec",
   "metadata": {},
   "outputs": [
    {
     "name": "stdout",
     "output_type": "stream",
     "text": [
      "Optimization terminated successfully.\n",
      "         Current function value: 0.290734\n",
      "         Iterations 8\n"
     ]
    },
    {
     "data": {
      "text/html": [
       "<table class=\"simpletable\">\n",
       "<caption>Logit Regression Results</caption>\n",
       "<tr>\n",
       "  <th>Dep. Variable:</th>           <td>y</td>        <th>  No. Observations:  </th>  <td>  1794</td>  \n",
       "</tr>\n",
       "<tr>\n",
       "  <th>Model:</th>                 <td>Logit</td>      <th>  Df Residuals:      </th>  <td>  1789</td>  \n",
       "</tr>\n",
       "<tr>\n",
       "  <th>Method:</th>                 <td>MLE</td>       <th>  Df Model:          </th>  <td>     4</td>  \n",
       "</tr>\n",
       "<tr>\n",
       "  <th>Date:</th>            <td>Sun, 16 Apr 2023</td> <th>  Pseudo R-squ.:     </th>  <td>0.1485</td>  \n",
       "</tr>\n",
       "<tr>\n",
       "  <th>Time:</th>                <td>14:54:24</td>     <th>  Log-Likelihood:    </th> <td> -521.58</td> \n",
       "</tr>\n",
       "<tr>\n",
       "  <th>converged:</th>             <td>True</td>       <th>  LL-Null:           </th> <td> -612.52</td> \n",
       "</tr>\n",
       "<tr>\n",
       "  <th>Covariance Type:</th>     <td>nonrobust</td>    <th>  LLR p-value:       </th> <td>2.930e-38</td>\n",
       "</tr>\n",
       "</table>\n",
       "<table class=\"simpletable\">\n",
       "<tr>\n",
       "    <td></td>       <th>coef</th>     <th>std err</th>      <th>z</th>      <th>P>|z|</th>  <th>[0.025</th>    <th>0.975]</th>  \n",
       "</tr>\n",
       "<tr>\n",
       "  <th>const</th> <td>   -2.5182</td> <td>    0.218</td> <td>  -11.564</td> <td> 0.000</td> <td>   -2.945</td> <td>   -2.091</td>\n",
       "</tr>\n",
       "<tr>\n",
       "  <th>x1</th>    <td>   -0.0038</td> <td>    0.001</td> <td>   -6.406</td> <td> 0.000</td> <td>   -0.005</td> <td>   -0.003</td>\n",
       "</tr>\n",
       "<tr>\n",
       "  <th>x2</th>    <td>    0.0009</td> <td>  9.1e-05</td> <td>    9.935</td> <td> 0.000</td> <td>    0.001</td> <td>    0.001</td>\n",
       "</tr>\n",
       "<tr>\n",
       "  <th>x3</th>    <td>   -1.7159</td> <td>    0.281</td> <td>   -6.111</td> <td> 0.000</td> <td>   -2.266</td> <td>   -1.166</td>\n",
       "</tr>\n",
       "<tr>\n",
       "  <th>x4</th>    <td>   -0.4210</td> <td>    0.180</td> <td>   -2.334</td> <td> 0.020</td> <td>   -0.774</td> <td>   -0.068</td>\n",
       "</tr>\n",
       "</table>"
      ],
      "text/plain": [
       "<class 'statsmodels.iolib.summary.Summary'>\n",
       "\"\"\"\n",
       "                           Logit Regression Results                           \n",
       "==============================================================================\n",
       "Dep. Variable:                      y   No. Observations:                 1794\n",
       "Model:                          Logit   Df Residuals:                     1789\n",
       "Method:                           MLE   Df Model:                            4\n",
       "Date:                Sun, 16 Apr 2023   Pseudo R-squ.:                  0.1485\n",
       "Time:                        14:54:24   Log-Likelihood:                -521.58\n",
       "converged:                       True   LL-Null:                       -612.52\n",
       "Covariance Type:            nonrobust   LLR p-value:                 2.930e-38\n",
       "==============================================================================\n",
       "                 coef    std err          z      P>|z|      [0.025      0.975]\n",
       "------------------------------------------------------------------------------\n",
       "const         -2.5182      0.218    -11.564      0.000      -2.945      -2.091\n",
       "x1            -0.0038      0.001     -6.406      0.000      -0.005      -0.003\n",
       "x2             0.0009    9.1e-05      9.935      0.000       0.001       0.001\n",
       "x3            -1.7159      0.281     -6.111      0.000      -2.266      -1.166\n",
       "x4            -0.4210      0.180     -2.334      0.020      -0.774      -0.068\n",
       "==============================================================================\n",
       "\"\"\""
      ]
     },
     "execution_count": 235,
     "metadata": {},
     "output_type": "execute_result"
    }
   ],
   "source": [
    "logit_model = sm.Logit(np.asarray(y_train), sm.add_constant(np.asarray(X_train))).fit()\n",
    "logit_model.summary()"
   ]
  },
  {
   "cell_type": "code",
   "execution_count": 236,
   "id": "241f6b67",
   "metadata": {},
   "outputs": [],
   "source": [
    "X_test = active4.drop(columns=\"Status\").astype('float64')"
   ]
  },
  {
   "cell_type": "code",
   "execution_count": 238,
   "id": "22eb2f60",
   "metadata": {},
   "outputs": [],
   "source": [
    "y_pred = logit_model.predict(sm.add_constant(X_test))"
   ]
  },
  {
   "cell_type": "code",
   "execution_count": 239,
   "id": "411fd81b",
   "metadata": {},
   "outputs": [
    {
     "data": {
      "image/png": "[encoded data removed]",
      "text/plain": [
       "<Figure size 640x480 with 1 Axes>"
      ]
     },
     "metadata": {},
     "output_type": "display_data"
    }
   ],
   "source": [
    "plt.hist(y_pred,bins=10)\n",
    "plt.show()"
   ]
  },
  {
   "cell_type": "code",
   "execution_count": 241,
   "id": "7a907fa5",
   "metadata": {},
   "outputs": [
    {
     "data": {
      "text/html": [
       "<div>\n",
       "<style scoped>\n",
       "    .dataframe tbody tr th:only-of-type {\n",
       "        vertical-align: middle;\n",
       "    }\n",
       "\n",
       "    .dataframe tbody tr th {\n",
       "        vertical-align: top;\n",
       "    }\n",
       "\n",
       "    .dataframe thead th {\n",
       "        text-align: right;\n",
       "    }\n",
       "</style>\n",
       "<table border=\"1\" class=\"dataframe\">\n",
       "  <thead>\n",
       "    <tr style=\"text-align: right;\">\n",
       "      <th></th>\n",
       "      <th>Capacity (MW)</th>\n",
       "      <th>Project Length</th>\n",
       "      <th>storage</th>\n",
       "      <th>renewable</th>\n",
       "      <th>Status</th>\n",
       "    </tr>\n",
       "  </thead>\n",
       "  <tbody>\n",
       "    <tr>\n",
       "      <th>4253</th>\n",
       "      <td>38.00</td>\n",
       "      <td>2599</td>\n",
       "      <td>True</td>\n",
       "      <td>True</td>\n",
       "      <td>ACTIVE</td>\n",
       "    </tr>\n",
       "    <tr>\n",
       "      <th>4254</th>\n",
       "      <td>193.80</td>\n",
       "      <td>6795</td>\n",
       "      <td>False</td>\n",
       "      <td>True</td>\n",
       "      <td>ACTIVE</td>\n",
       "    </tr>\n",
       "    <tr>\n",
       "      <th>4255</th>\n",
       "      <td>73.27</td>\n",
       "      <td>6544</td>\n",
       "      <td>True</td>\n",
       "      <td>False</td>\n",
       "      <td>ACTIVE</td>\n",
       "    </tr>\n",
       "    <tr>\n",
       "      <th>4256</th>\n",
       "      <td>500.00</td>\n",
       "      <td>8594</td>\n",
       "      <td>True</td>\n",
       "      <td>False</td>\n",
       "      <td>ACTIVE</td>\n",
       "    </tr>\n",
       "    <tr>\n",
       "      <th>4257</th>\n",
       "      <td>150.00</td>\n",
       "      <td>6582</td>\n",
       "      <td>True</td>\n",
       "      <td>True</td>\n",
       "      <td>ACTIVE</td>\n",
       "    </tr>\n",
       "    <tr>\n",
       "      <th>...</th>\n",
       "      <td>...</td>\n",
       "      <td>...</td>\n",
       "      <td>...</td>\n",
       "      <td>...</td>\n",
       "      <td>...</td>\n",
       "    </tr>\n",
       "    <tr>\n",
       "      <th>4712</th>\n",
       "      <td>11.00</td>\n",
       "      <td>597</td>\n",
       "      <td>True</td>\n",
       "      <td>False</td>\n",
       "      <td>ACTIVE</td>\n",
       "    </tr>\n",
       "    <tr>\n",
       "      <th>4713</th>\n",
       "      <td>44.00</td>\n",
       "      <td>672</td>\n",
       "      <td>True</td>\n",
       "      <td>False</td>\n",
       "      <td>ACTIVE</td>\n",
       "    </tr>\n",
       "    <tr>\n",
       "      <th>4714</th>\n",
       "      <td>250.00</td>\n",
       "      <td>506</td>\n",
       "      <td>True</td>\n",
       "      <td>False</td>\n",
       "      <td>ACTIVE</td>\n",
       "    </tr>\n",
       "    <tr>\n",
       "      <th>4715</th>\n",
       "      <td>250.00</td>\n",
       "      <td>486</td>\n",
       "      <td>True</td>\n",
       "      <td>False</td>\n",
       "      <td>ACTIVE</td>\n",
       "    </tr>\n",
       "    <tr>\n",
       "      <th>4716</th>\n",
       "      <td>120.00</td>\n",
       "      <td>1155</td>\n",
       "      <td>True</td>\n",
       "      <td>False</td>\n",
       "      <td>ACTIVE</td>\n",
       "    </tr>\n",
       "  </tbody>\n",
       "</table>\n",
       "<p>464 rows × 5 columns</p>\n",
       "</div>"
      ],
      "text/plain": [
       "      Capacity (MW)  Project Length  storage  renewable  Status\n",
       "4253          38.00            2599     True       True  ACTIVE\n",
       "4254         193.80            6795    False       True  ACTIVE\n",
       "4255          73.27            6544     True      False  ACTIVE\n",
       "4256         500.00            8594     True      False  ACTIVE\n",
       "4257         150.00            6582     True       True  ACTIVE\n",
       "...             ...             ...      ...        ...     ...\n",
       "4712          11.00             597     True      False  ACTIVE\n",
       "4713          44.00             672     True      False  ACTIVE\n",
       "4714         250.00             506     True      False  ACTIVE\n",
       "4715         250.00             486     True      False  ACTIVE\n",
       "4716         120.00            1155     True      False  ACTIVE\n",
       "\n",
       "[464 rows x 5 columns]"
      ]
     },
     "execution_count": 241,
     "metadata": {},
     "output_type": "execute_result"
    }
   ],
   "source": [
    "active4"
   ]
  },
  {
   "cell_type": "code",
   "execution_count": 243,
   "id": "9a5e7c26",
   "metadata": {},
   "outputs": [
    {
     "name": "stderr",
     "output_type": "stream",
     "text": [
      "/var/folders/fb/lsg_5xw57mz9vhkmk6dvkfkw0000gn/T/ipykernel_1198/2956636599.py:1: SettingWithCopyWarning: \n",
      "A value is trying to be set on a copy of a slice from a DataFrame.\n",
      "Try using .loc[row_indexer,col_indexer] = value instead\n",
      "\n",
      "See the caveats in the documentation: https://pandas.pydata.org/pandas-docs/stable/user_guide/indexing.html#returning-a-view-versus-a-copy\n",
      "  active4[\"preds\"] = y_pred\n"
     ]
    }
   ],
   "source": [
    "active4[\"pred\"] = y_pred"
   ]
  },
  {
   "cell_type": "code",
   "execution_count": 248,
   "id": "50735912",
   "metadata": {},
   "outputs": [
    {
     "data": {
      "text/html": [
       "<div>\n",
       "<style scoped>\n",
       "    .dataframe tbody tr th:only-of-type {\n",
       "        vertical-align: middle;\n",
       "    }\n",
       "\n",
       "    .dataframe tbody tr th {\n",
       "        vertical-align: top;\n",
       "    }\n",
       "\n",
       "    .dataframe thead th {\n",
       "        text-align: right;\n",
       "    }\n",
       "</style>\n",
       "<table border=\"1\" class=\"dataframe\">\n",
       "  <thead>\n",
       "    <tr style=\"text-align: right;\">\n",
       "      <th></th>\n",
       "      <th>Capacity (MW)</th>\n",
       "      <th>Project Length</th>\n",
       "      <th>storage</th>\n",
       "      <th>renewable</th>\n",
       "      <th>Status</th>\n",
       "      <th>preds</th>\n",
       "    </tr>\n",
       "  </thead>\n",
       "  <tbody>\n",
       "    <tr>\n",
       "      <th>4254</th>\n",
       "      <td>193.80</td>\n",
       "      <td>6795</td>\n",
       "      <td>False</td>\n",
       "      <td>True</td>\n",
       "      <td>ACTIVE</td>\n",
       "      <td>0.921480</td>\n",
       "    </tr>\n",
       "    <tr>\n",
       "      <th>4255</th>\n",
       "      <td>73.27</td>\n",
       "      <td>6544</td>\n",
       "      <td>True</td>\n",
       "      <td>False</td>\n",
       "      <td>ACTIVE</td>\n",
       "      <td>0.802454</td>\n",
       "    </tr>\n",
       "    <tr>\n",
       "      <th>4256</th>\n",
       "      <td>500.00</td>\n",
       "      <td>8594</td>\n",
       "      <td>True</td>\n",
       "      <td>False</td>\n",
       "      <td>ACTIVE</td>\n",
       "      <td>0.835251</td>\n",
       "    </tr>\n",
       "    <tr>\n",
       "      <th>4262</th>\n",
       "      <td>66.00</td>\n",
       "      <td>6296</td>\n",
       "      <td>True</td>\n",
       "      <td>False</td>\n",
       "      <td>ACTIVE</td>\n",
       "      <td>0.769466</td>\n",
       "    </tr>\n",
       "    <tr>\n",
       "      <th>4265</th>\n",
       "      <td>49.50</td>\n",
       "      <td>5906</td>\n",
       "      <td>False</td>\n",
       "      <td>False</td>\n",
       "      <td>ACTIVE</td>\n",
       "      <td>0.932874</td>\n",
       "    </tr>\n",
       "    <tr>\n",
       "      <th>4270</th>\n",
       "      <td>4.50</td>\n",
       "      <td>4216</td>\n",
       "      <td>False</td>\n",
       "      <td>True</td>\n",
       "      <td>ACTIVE</td>\n",
       "      <td>0.701605</td>\n",
       "    </tr>\n",
       "    <tr>\n",
       "      <th>4271</th>\n",
       "      <td>90.00</td>\n",
       "      <td>4841</td>\n",
       "      <td>False</td>\n",
       "      <td>True</td>\n",
       "      <td>ACTIVE</td>\n",
       "      <td>0.748956</td>\n",
       "    </tr>\n",
       "    <tr>\n",
       "      <th>4274</th>\n",
       "      <td>71.88</td>\n",
       "      <td>4515</td>\n",
       "      <td>False</td>\n",
       "      <td>True</td>\n",
       "      <td>ACTIVE</td>\n",
       "      <td>0.704251</td>\n",
       "    </tr>\n",
       "  </tbody>\n",
       "</table>\n",
       "</div>"
      ],
      "text/plain": [
       "      Capacity (MW)  Project Length  storage  renewable  Status     preds\n",
       "4254         193.80            6795    False       True  ACTIVE  0.921480\n",
       "4255          73.27            6544     True      False  ACTIVE  0.802454\n",
       "4256         500.00            8594     True      False  ACTIVE  0.835251\n",
       "4262          66.00            6296     True      False  ACTIVE  0.769466\n",
       "4265          49.50            5906    False      False  ACTIVE  0.932874\n",
       "4270           4.50            4216    False       True  ACTIVE  0.701605\n",
       "4271          90.00            4841    False       True  ACTIVE  0.748956\n",
       "4274          71.88            4515    False       True  ACTIVE  0.704251"
      ]
     },
     "execution_count": 248,
     "metadata": {},
     "output_type": "execute_result"
    }
   ],
   "source": [
    "active4[active4[\"preds\"] > .7]"
   ]
  },
  {
   "cell_type": "markdown",
   "id": "92b9260c",
   "metadata": {},
   "source": [
    "Even for projects that are predicted to be 70% likely to be completed, there doesn't seem to be a clear pattern among the predictors. The bottom line is, many more projects get withdrawn than completed."
   ]
  }
 ],
 "metadata": {
  "kernelspec": {
   "display_name": "Python 3 (ipykernel)",
   "language": "python",
   "name": "python3"
  },
  "language_info": {
   "codemirror_mode": {
    "name": "ipython",
    "version": 3
   },
   "file_extension": ".py",
   "mimetype": "text/x-python",
   "name": "python",
   "nbconvert_exporter": "python",
   "pygments_lexer": "ipython3",
   "version": "3.9.13"
  }
 },
 "nbformat": 4,
 "nbformat_minor": 5
}
